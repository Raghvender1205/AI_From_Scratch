{
 "cells": [
  {
   "cell_type": "markdown",
   "metadata": {},
   "source": [
    "## Optimizers from Scratch\n",
    "\n",
    "For implementing different optimizers a Model class has to be created"
   ]
  },
  {
   "cell_type": "code",
   "execution_count": 1,
   "metadata": {},
   "outputs": [],
   "source": [
    "import torch\n",
    "import matplotlib.pyplot as plt"
   ]
  },
  {
   "cell_type": "code",
   "execution_count": 2,
   "metadata": {},
   "outputs": [],
   "source": [
    "# Creating labels and values\n",
    "def generate_values(x1, x2, x3):\n",
    "    return (x3**3 * 0.8) + (x2**2 * 0.1) + (x1 * 0.5) + 4."
   ]
  },
  {
   "cell_type": "code",
   "execution_count": 3,
   "metadata": {},
   "outputs": [
    {
     "name": "stdout",
     "output_type": "stream",
     "text": [
      "torch.Size([5, 3]) torch.Size([5])\n",
      "tensor([4.6334, 4.3512, 5.5072, 7.0040, 4.7068])\n"
     ]
    }
   ],
   "source": [
    "x = torch.tensor([[0.7, 0.3, 0.7],\n",
    "                  [0.4, 1., 0.4],\n",
    "                  [1.2, 1.8, 0.9],\n",
    "                  [0.6, 0.2, 1.5],\n",
    "                  [0.1, 2.2, 0.6]])\n",
    "y = torch.tensor([generate_values(i[0], i[1], i[2]) for i in x])\n",
    "print(x.shape, y.shape)\n",
    "print(y)"
   ]
  },
  {
   "cell_type": "code",
   "execution_count": 4,
   "metadata": {},
   "outputs": [],
   "source": [
    "class Model:\n",
    "    def __init__(self, x, y):\n",
    "        self.x = x\n",
    "        self.y = y\n",
    "        \n",
    "        self._init_params()\n",
    "        self._init_momentum()\n",
    "        self._init_RMSs()\n",
    "    \n",
    "    def _init_params(self):\n",
    "        self.weights1 = self._random_tensor((x.shape[1], 3))\n",
    "        self.bias1 = self._random_tensor(1)\n",
    "        self.weights2 = self._random_tensor((3, 1))\n",
    "        self.bias2 = self._random_tensor(1)\n",
    "        \n",
    "    def _random_tensor(self, size): return (torch.randn(size)).requires_grad_()\n",
    "    \n",
    "    def _init_momentum(self):\n",
    "        self.mom_w1, self.mom_b1 = [0], [0] # weights and bias\n",
    "        self.mom_w2, self.mom_b2 = [0], [0]\n",
    "    \n",
    "    def _init_RMSs(self):\n",
    "        self.RMSs_w1, self.RMSs_b1 = [0], [0]\n",
    "        self.RMSs_w2, self.RMSs_b2 = [0], [0]\n",
    "    \n",
    "    def _nn(self, xb):\n",
    "        l1 = xb @ self.weights1 + self.bias1 # W.X + b\n",
    "        l2 = l1.max(torch.tensor(0.0))\n",
    "        l3 = l2 @ self.weights2 + self.bias2\n",
    "        return l3\n",
    "    \n",
    "    def _loss_fn(self, preds, yb):\n",
    "        return ((preds-yb)**2).mean()\n",
    "    \n",
    "    def train(self, optim):\n",
    "        # Different Learning rates to compare\n",
    "        lrs = [10e-4, 10e-3, 10e-2, 10e-1]\n",
    "        # For plotting\n",
    "        fig, axs = plt.subplots(2, 2)\n",
    "        all_losses = []\n",
    "        for i, lr in enumerate(lrs):\n",
    "            losses = []\n",
    "            while(len(losses) == 0 or losses[-1] > 0.1 and len(losses) < 1000):\n",
    "                preds = self._nn(self.x)\n",
    "                loss = self._loss_fn(preds, self.y)\n",
    "                loss.backward()\n",
    "                \n",
    "                optim(self.weights1, lr, self.mom_w1, self.RMSs_w1)\n",
    "                optim(self.bias1, lr, self.mom_b1, self.RMSs_b1)\n",
    "                optim(self.weights2, lr, self.mom_w2, self.RMSs_w2)\n",
    "                optim(self.bias2, lr, self.mom_b2, self.RMSs_b2)\n",
    "                \n",
    "                losses.append(loss.item())\n",
    "            all_losses.append(losses)\n",
    "            \n",
    "            # Plot\n",
    "            xi = i % 2\n",
    "            yi = int(i/2)\n",
    "            axs[xi, yi].plot(list(range(len(losses))), losses)\n",
    "            axs[xi, yi].set_ylim(0, 30)\n",
    "            axs[xi, yi].set_title('Learning Rate:'+str(lr))\n",
    "            \n",
    "            # Set Seed value for better comparision (params are init in a same way)\n",
    "            torch.random.seed()\n",
    "            self._init_params()\n",
    "            self._init_momentum()\n",
    "            self._init_RMSs()\n",
    "        \n",
    "        for ax in axs.flat:\n",
    "            ax.set(xlabel='steps', ylabel='loss (MSE)')\n",
    "        plt.tight_layout()"
   ]
  },
  {
   "cell_type": "code",
   "execution_count": 5,
   "metadata": {},
   "outputs": [],
   "source": [
    "model = Model(x, y)"
   ]
  },
  {
   "cell_type": "markdown",
   "metadata": {},
   "source": [
    "## SGD Optimizer\n",
    "Stochastic gradient descent (SGD) in contrast performs a parameter update for each training example \n",
    "x(i) and label y(i)\n",
    "\n",
    "\n",
    "<math xmlns=\"http://www.w3.org/1998/Math/MathML\">\n",
    "  <mi>&#x03B8;<!-- θ --></mi>\n",
    "  <mo>=</mo>\n",
    "  <mi>&#x03B8;<!-- θ --></mi>\n",
    "  <mo>&#x2212;<!-- − --></mo>\n",
    "  <mi>&#x03B7;<!-- η --></mi>\n",
    "  <mo>&#x22C5;<!-- ⋅ --></mo>\n",
    "  <msub>\n",
    "    <mi mathvariant=\"normal\">&#x2207;<!-- ∇ --></mi>\n",
    "    <mi>&#x03B8;<!-- θ --></mi>\n",
    "  </msub>\n",
    "  <mi>J</mi>\n",
    "  <mo stretchy=\"false\">(</mo>\n",
    "  <mi>&#x03B8;<!-- θ --></mi>\n",
    "  <mo>;</mo>\n",
    "  <msup>\n",
    "    <mi>x</mi>\n",
    "    <mrow class=\"MJX-TeXAtom-ORD\">\n",
    "      <mo stretchy=\"false\">(</mo>\n",
    "      <mi>i</mi>\n",
    "      <mo stretchy=\"false\">)</mo>\n",
    "    </mrow>\n",
    "  </msup>\n",
    "  <mo>;</mo>\n",
    "  <msup>\n",
    "    <mi>y</mi>\n",
    "    <mrow class=\"MJX-TeXAtom-ORD\">\n",
    "      <mo stretchy=\"false\">(</mo>\n",
    "      <mi>i</mi>\n",
    "      <mo stretchy=\"false\">)</mo>\n",
    "    </mrow>\n",
    "  </msup>\n",
    "  <mo stretchy=\"false\">)</mo>\n",
    "</math>"
   ]
  },
  {
   "cell_type": "code",
   "execution_count": 6,
   "metadata": {},
   "outputs": [],
   "source": [
    "# Using SGD (Stochastic gradient descent)\n",
    "def SGD(a, lr, _, __):\n",
    "    a.data -= a.grad * lr\n",
    "    a.grad = None"
   ]
  },
  {
   "cell_type": "code",
   "execution_count": 7,
   "metadata": {},
   "outputs": [
    {
     "data": {
      "image/png": "[encoded data removed]",
      "text/plain": [
       "<Figure size 432x288 with 4 Axes>"
      ]
     },
     "metadata": {
      "needs_background": "light"
     },
     "output_type": "display_data"
    }
   ],
   "source": [
    "model.train(SGD)"
   ]
  },
  {
   "attachments": {
    "image-2.png": {
     "image/png": "[encoded data removed]"
    },
    "image.png": {
     "image/png": "[encoded data removed]"
    }
   },
   "cell_type": "markdown",
   "metadata": {},
   "source": [
    "## Momentum\n",
    "SGD there is a problem that steps continue to be small even though the model might be pretty sure that the direction is right. Momentum takes bigger and bigger steps the more sure it is about the direction.\n",
    "\n",
    "It does this by adding a fraction \n",
    "γ of the update vector of the past time step to the current update vector:\n",
    "\n",
    "<b>SGD without Momentum</b>\n",
    "![image.png](attachment:image.png)\n",
    "\n",
    "<b>SGD with Momentum</b>\n",
    "![image-2.png](attachment:image-2.png)    \n",
    "\n",
    "\\begin{align} \n",
    "\\begin{split} \n",
    "v_t &= \\gamma v_{t-1} + \\eta \\nabla_\\theta J( \\theta) \\\\ \n",
    "\\theta &= \\theta - v_t \n",
    "\\end{split} \n",
    "\\end{align}\n",
    "\n",
    "In momentum optimizer we need to first calculate momentum. It's gradient times small value (almost always 0.1) multiplied by previous momentum times 1-the_small_value. This way it mostly goes to the same direction where it was going the last time but gradient still can change the direction."
   ]
  },
  {
   "cell_type": "code",
   "execution_count": 12,
   "metadata": {},
   "outputs": [],
   "source": [
    "def momentum(a,_, moms, __): # 4 are initialized in the Model Class so..\n",
    "    prev_mometum = moms[-1]\n",
    "    \n",
    "    mom = a.grad * 0.1 + prev_mometum * 0.9\n",
    "    moms.append(mom)\n",
    "    a.data -= mom\n",
    "    a.grad = None"
   ]
  },
  {
   "cell_type": "code",
   "execution_count": 13,
   "metadata": {},
   "outputs": [
    {
     "data": {
      "image/png": "[encoded data removed]",
      "text/plain": [
       "<Figure size 432x288 with 4 Axes>"
      ]
     },
     "metadata": {
      "needs_background": "light"
     },
     "output_type": "display_data"
    }
   ],
   "source": [
    "model.train(momentum)"
   ]
  },
  {
   "cell_type": "markdown",
   "metadata": {},
   "source": [
    "## RMSprop\n",
    "\n",
    "RMSprop is the same as momentum except gradient is squared.\n",
    "\n",
    "Because the gradient is squared it means that if the gradient is:\n",
    "* small RMSprop becomes small\n",
    "* volatile RMSprop becomes big\n",
    "* big RMSprop becomes big\n",
    "\n",
    "Then parameteres are updated by multiplying the gradient with learning rate and then dividing it with square root of RMSprop. This means that if RMSprop is small the parameters are updated more.\n",
    "\n",
    "\n",
    "RMSprop and Adadelta have both been developed independently around the same time stemming from the need to resolve Adagrad's radically diminishing learning rates.\n",
    "\n",
    "\\begin{align} \n",
    "\\begin{split} \n",
    "E[g^2]_t &= 0.9 E[g^2]_{t-1} + 0.1 g^2_t \\\\ \n",
    "\\theta_{t+1} &= \\theta_{t} - \\dfrac{\\eta}{\\sqrt{E[g^2]_t + \\epsilon}} g_{t} \n",
    "\\end{split} \n",
    "\\end{align}"
   ]
  },
  {
   "cell_type": "code",
   "execution_count": 14,
   "metadata": {},
   "outputs": [],
   "source": [
    "def RMSprop(a, lr, _, RMSs):\n",
    "    prev_RMS = RMSs[-1]\n",
    "    \n",
    "    RMS = (a.grad ** 2 * 0.1 + prev_RMS * 0.9)\n",
    "    RMSs.append(RMS)\n",
    "    \n",
    "    # Gamma is added to make sure there is never divide with zero\n",
    "    gamma = 1e-5\n",
    "    a.data -= (a.grad * lr) / (torch.sqrt(RMS) + gamma)\n",
    "    a.grad = None"
   ]
  },
  {
   "cell_type": "code",
   "execution_count": 15,
   "metadata": {},
   "outputs": [
    {
     "data": {
      "image/png": "[encoded data removed]",
      "text/plain": [
       "<Figure size 432x288 with 4 Axes>"
      ]
     },
     "metadata": {
      "needs_background": "light"
     },
     "output_type": "display_data"
    }
   ],
   "source": [
    "model.train(RMSprop)"
   ]
  },
  {
   "cell_type": "markdown",
   "metadata": {},
   "source": [
    "## Adam \n",
    "Adaptive Moment Estimation (Adam) is another method that computes adaptive learning rates for each parameter.\n",
    "In addition to storing an exponentially decaying average of past squared gradients<math xmlns=\"http://www.w3.org/1998/Math/MathML\">\n",
    "  <msub>\n",
    "    <mi>v</mi>\n",
    "    <mi>t</mi>\n",
    "  </msub>\n",
    "</math> like Adadelta and RMSprop, Adam also keeps an exponentially decaying average of past gradients \n",
    "<math xmlns=\"http://www.w3.org/1998/Math/MathML\">\n",
    "  <msub>\n",
    "    <mi>m</mi>\n",
    "    <mi>t</mi>\n",
    "  </msub>\n",
    "</math>, similar to momentum.\n",
    "\n",
    "Whereas momentum can be seen as a ball running down a slope, Adam behaves like a heavy ball with friction, which thus prefers flat minima in the error surface.\n",
    "\n",
    "We compute the decaying averages of past and past squared gradients m_t and v_t respectively as follows:\n",
    "\n",
    "\\begin{align} \n",
    "\\begin{split} \n",
    "m_t &= \\beta_1 m_{t-1} + (1 - \\beta_1) g_t \\\\ \n",
    "v_t &= \\beta_2 v_{t-1} + (1 - \\beta_2) g_t^2 \n",
    "\\end{split} \n",
    "\\end{align}\n",
    "\n",
    "m_t and v_t are estimates of the first moment (the mean) and the second moment (the uncentered variance) of the gradients respectively, hence the name of the method.\n",
    "\n",
    "As. <math xmlns=\"http://www.w3.org/1998/Math/MathML\">\n",
    "  <msub>\n",
    "    <mi>m</mi>\n",
    "    <mi>t</mi>\n",
    "  </msub>\n",
    "</math> and <math xmlns=\"http://www.w3.org/1998/Math/MathML\">\n",
    "  <msub>\n",
    "    <mi>v</mi>\n",
    "    <mi>t</mi>\n",
    "  </msub>\n",
    "</math>\n",
    "are initialized as vectors of 0's, the authors of Adam observe that they are biased towards zero, especially during the initial time steps, and especially when the decay rates are small <math xmlns=\"http://www.w3.org/1998/Math/MathML\">\n",
    "  <msub>\n",
    "    <mi>&#x03B2;<!-- β --></mi>\n",
    "    <mn>1</mn>\n",
    "  </msub>\n",
    "</math> and <math xmlns=\"http://www.w3.org/1998/Math/MathML\">\n",
    "  <msub>\n",
    "    <mi>&#x03B2;<!-- β --></mi>\n",
    "    <mn>2</mn>\n",
    "  </msub>\n",
    "</math> are close to 1\n",
    "\n",
    "They counteract these biases by computing bias-corrected first and second moment estimates:\n",
    "\n",
    "\\begin{align} \n",
    "\\begin{split} \n",
    "\\hat{m}_t &= \\dfrac{m_t}{1 - \\beta^t_1} \\\\ \n",
    "\\hat{v}_t &= \\dfrac{v_t}{1 - \\beta^t_2} \\end{split} \n",
    "\\end{align}\n",
    "\n",
    "They then use these to update the parameters just as we have seen in Adadelta and RMSprop, which yields the Adam update rule:\n",
    "\n",
    "<math xmlns=\"http://www.w3.org/1998/Math/MathML\">\n",
    "  <msub>\n",
    "    <mi>&#x03B8;<!-- θ --></mi>\n",
    "    <mrow class=\"MJX-TeXAtom-ORD\">\n",
    "      <mi>t</mi>\n",
    "      <mo>+</mo>\n",
    "      <mn>1</mn>\n",
    "    </mrow>\n",
    "  </msub>\n",
    "  <mo>=</mo>\n",
    "  <msub>\n",
    "    <mi>&#x03B8;<!-- θ --></mi>\n",
    "    <mrow class=\"MJX-TeXAtom-ORD\">\n",
    "      <mi>t</mi>\n",
    "    </mrow>\n",
    "  </msub>\n",
    "  <mo>&#x2212;<!-- − --></mo>\n",
    "  <mstyle displaystyle=\"true\" scriptlevel=\"0\">\n",
    "    <mfrac>\n",
    "      <mi>&#x03B7;<!-- η --></mi>\n",
    "      <mrow>\n",
    "        <msqrt>\n",
    "          <msub>\n",
    "            <mrow class=\"MJX-TeXAtom-ORD\">\n",
    "              <mover>\n",
    "                <mi>v</mi>\n",
    "                <mo stretchy=\"false\">&#x005E;<!-- ^ --></mo>\n",
    "              </mover>\n",
    "            </mrow>\n",
    "            <mi>t</mi>\n",
    "          </msub>\n",
    "        </msqrt>\n",
    "        <mo>+</mo>\n",
    "        <mi>&#x03F5;<!-- ϵ --></mi>\n",
    "      </mrow>\n",
    "    </mfrac>\n",
    "  </mstyle>\n",
    "  <msub>\n",
    "    <mrow class=\"MJX-TeXAtom-ORD\">\n",
    "      <mover>\n",
    "        <mi>m</mi>\n",
    "        <mo stretchy=\"false\">&#x005E;<!-- ^ --></mo>\n",
    "      </mover>\n",
    "    </mrow>\n",
    "    <mi>t</mi>\n",
    "  </msub>\n",
    "</math>\n",
    "\n",
    "\n",
    "The authors propose default values of 0.9 for \n",
    "<math xmlns=\"http://www.w3.org/1998/Math/MathML\">\n",
    "  <msub>\n",
    "    <mi>&#x03B2;<!-- β --></mi>\n",
    "    <mn>1</mn>\n",
    "  </msub>\n",
    "</math>\n",
    ", 0.999 for \n",
    "<math xmlns=\"http://www.w3.org/1998/Math/MathML\">\n",
    "  <msub>\n",
    "    <mi>&#x03B2;<!-- β --></mi>\n",
    "    <mn>2</mn>\n",
    "  </msub>\n",
    "</math>\n",
    ", and \n",
    "10\n",
    "−\n",
    "8\n",
    " for \n",
    "<math xmlns=\"http://www.w3.org/1998/Math/MathML\">\n",
    "  <mi>&#x03F5;<!-- ϵ --></mi>\n",
    "</math>\n",
    "\n",
    "<b>In Simple Words</b> \n",
    "\n",
    "Adam is simply combination of RMSprop and momentum. That's it. Nothing more. Adam is often the safe choice in any model even though some other optimizer might be better in specific tasks."
   ]
  },
  {
   "cell_type": "code",
   "execution_count": 16,
   "metadata": {},
   "outputs": [],
   "source": [
    "def Adam(a, lr, moms, RMSs):\n",
    "    prev_momentum = moms[-1]\n",
    "    mom = a.grad * 0.1 + prev_momentum * 0.9\n",
    "    moms.append(mom)\n",
    "    \n",
    "    prev_RMS = RMSs[-1]\n",
    "    RMS = a.grad ** 2 * 0.1 + prev_RMS * 0.9\n",
    "    RMSs.append(RMS)\n",
    "    \n",
    "    gamma = 1e-5\n",
    "    a.data -= (mom * lr) / (torch.sqrt(RMS) + gamma)\n",
    "    a.grad = None\n"
   ]
  },
  {
   "cell_type": "code",
   "execution_count": 17,
   "metadata": {},
   "outputs": [
    {
     "data": {
      "image/png": "[encoded data removed]",
      "text/plain": [
       "<Figure size 432x288 with 4 Axes>"
      ]
     },
     "metadata": {
      "needs_background": "light"
     },
     "output_type": "display_data"
    }
   ],
   "source": [
    "model.train(Adam)"
   ]
  },
  {
   "cell_type": "code",
   "execution_count": null,
   "metadata": {},
   "outputs": [],
   "source": []
  }
 ],
 "metadata": {
  "kernelspec": {
   "display_name": "ML",
   "language": "python",
   "name": "ml"
  },
  "language_info": {
   "codemirror_mode": {
    "name": "ipython",
    "version": 3
   },
   "file_extension": ".py",
   "mimetype": "text/x-python",
   "name": "python",
   "nbconvert_exporter": "python",
   "pygments_lexer": "ipython3",
   "version": "3.8.5"
  }
 },
 "nbformat": 4,
 "nbformat_minor": 4
}
