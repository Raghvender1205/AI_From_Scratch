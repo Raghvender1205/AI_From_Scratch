{
 "cells": [
  {
   "cell_type": "code",
   "execution_count": 1,
   "metadata": {},
   "outputs": [],
   "source": [
    "import matplotlib.pyplot as plt"
   ]
  },
  {
   "cell_type": "code",
   "execution_count": 2,
   "metadata": {},
   "outputs": [],
   "source": [
    "data = open('HP1.txt').read().lower()"
   ]
  },
  {
   "cell_type": "code",
   "execution_count": 3,
   "metadata": {},
   "outputs": [
    {
     "name": "stdout",
     "output_type": "stream",
     "text": [
      "data has 25808 characters, 39 unique\n"
     ]
    }
   ],
   "source": [
    "chars = set(data)\n",
    "vocab_size = len(chars)\n",
    "\n",
    "print('data has %d characters, %d unique' % (len(data), vocab_size))"
   ]
  },
  {
   "cell_type": "code",
   "execution_count": 4,
   "metadata": {},
   "outputs": [],
   "source": [
    "# creating dictionaries for mapping chars to ints and vice versa\n",
    "char_to_idx = {w: i for i,w in enumerate(chars)}\n",
    "idx_to_char = {i: w for i,w in enumerate(chars)}"
   ]
  },
  {
   "cell_type": "code",
   "execution_count": 6,
   "metadata": {},
   "outputs": [
    {
     "data": {
      "text/plain": [
       "({'\\n': 0,\n",
       "  'l': 1,\n",
       "  'p': 2,\n",
       "  's': 3,\n",
       "  'y': 4,\n",
       "  'k': 5,\n",
       "  'c': 6,\n",
       "  \"'\": 7,\n",
       "  'f': 8,\n",
       "  '!': 9,\n",
       "  'i': 10,\n",
       "  'j': 11,\n",
       "  'g': 12,\n",
       "  '-': 13,\n",
       "  'd': 14,\n",
       "  't': 15,\n",
       "  '?': 16,\n",
       "  'a': 17,\n",
       "  'n': 18,\n",
       "  '.': 19,\n",
       "  'v': 20,\n",
       "  'r': 21,\n",
       "  'e': 22,\n",
       "  'b': 23,\n",
       "  ' ': 24,\n",
       "  'w': 25,\n",
       "  'm': 26,\n",
       "  ':': 27,\n",
       "  ',': 28,\n",
       "  'x': 29,\n",
       "  'z': 30,\n",
       "  '(': 31,\n",
       "  ';': 32,\n",
       "  '\"': 33,\n",
       "  'u': 34,\n",
       "  'o': 35,\n",
       "  ')': 36,\n",
       "  'q': 37,\n",
       "  'h': 38},\n",
       " {0: '\\n',\n",
       "  1: 'l',\n",
       "  2: 'p',\n",
       "  3: 's',\n",
       "  4: 'y',\n",
       "  5: 'k',\n",
       "  6: 'c',\n",
       "  7: \"'\",\n",
       "  8: 'f',\n",
       "  9: '!',\n",
       "  10: 'i',\n",
       "  11: 'j',\n",
       "  12: 'g',\n",
       "  13: '-',\n",
       "  14: 'd',\n",
       "  15: 't',\n",
       "  16: '?',\n",
       "  17: 'a',\n",
       "  18: 'n',\n",
       "  19: '.',\n",
       "  20: 'v',\n",
       "  21: 'r',\n",
       "  22: 'e',\n",
       "  23: 'b',\n",
       "  24: ' ',\n",
       "  25: 'w',\n",
       "  26: 'm',\n",
       "  27: ':',\n",
       "  28: ',',\n",
       "  29: 'x',\n",
       "  30: 'z',\n",
       "  31: '(',\n",
       "  32: ';',\n",
       "  33: '\"',\n",
       "  34: 'u',\n",
       "  35: 'o',\n",
       "  36: ')',\n",
       "  37: 'q',\n",
       "  38: 'h'})"
      ]
     },
     "execution_count": 6,
     "metadata": {},
     "output_type": "execute_result"
    }
   ],
   "source": [
    "char_to_idx, idx_to_char"
   ]
  },
  {
   "cell_type": "code",
   "execution_count": 7,
   "metadata": {},
   "outputs": [],
   "source": [
    "# Load and Run the File\n",
    "%run LSTM_Scratch.py"
   ]
  },
  {
   "cell_type": "code",
   "execution_count": 8,
   "metadata": {},
   "outputs": [],
   "source": [
    "model = LSTM(char_to_idx, idx_to_char, vocab_size, epochs = 10, lr = 0.0005)"
   ]
  },
  {
   "cell_type": "code",
   "execution_count": 9,
   "metadata": {},
   "outputs": [
    {
     "name": "stdout",
     "output_type": "stream",
     "text": [
      "**********************************\n",
      "Gradient check...\n",
      "\n",
      "--------- Wf ---------\n",
      "Approximate: \t8.047394e-04, Exact: \t8.047456e-04 =>  Error: \t3.860196e-06\n",
      "--------- bf ---------\n",
      "Approximate: \t-6.905324e-03, Exact: \t-6.905326e-03 =>  Error: \t1.037493e-07\n",
      "--------- Wi ---------\n",
      "Approximate: \t2.089919e-04, Exact: \t2.089649e-04 =>  Error: \t6.469868e-05\n",
      "--------- bi ---------\n",
      "Approximate: \t-2.018756e-02, Exact: \t-2.018755e-02 =>  Error: \t3.324994e-07\n",
      "--------- Wc ---------\n",
      "Approximate: \t4.219309e-03, Exact: \t4.219311e-03 =>  Error: \t1.992025e-07\n",
      "--------- bc ---------\n",
      "Approximate: \t1.440197e-01, Exact: \t1.440196e-01 =>  Error: \t2.748761e-07\n",
      "--------- Wo ---------\n",
      "Approximate: \t1.910507e-04, Exact: \t1.910675e-04 =>  Error: \t4.400301e-05\n",
      "--------- bo ---------\n",
      "Approximate: \t5.914202e-03, Exact: \t5.914190e-03 =>  Error: \t1.036540e-06\n",
      "--------- Wv ---------\n",
      "Approximate: \t-1.844782e-04, Exact: \t-1.844463e-04 =>  Error: \t8.640833e-05\n",
      "--------- bv ---------\n",
      "Approximate: \t-1.519822e-01, Exact: \t-1.519823e-01 =>  Error: \t4.227507e-07\n",
      "\n",
      "Test successful!\n",
      "**********************************\n",
      "\n",
      "Epoch: 0 \tBatch: 0 - 25 \tLoss: 91.59\n",
      ":rdf'bn.gny l:p?fhfay.(pemcqlg w g?hl;yz) qgwb(qgqq,fn;q!(beizh,(c(khbif(q'b,!x\n",
      "-vqdi?wwb\n",
      "nk:njv'hhliouws,-go-\n",
      "oxid:t;znmpzr!rx.rhs?qpvh)hvbes)mb)\"v-b.ofmhb':zo.;axauzw:j'ejwfyibqhrce!!e)hvzsvrwc\"li, vrysz\"oadrl.esp?wx\n",
      "d?(rnvnfk;cjt'ovk;ah\n",
      "?eq)n?cl ! \n",
      "\n",
      "Epoch: 1 \tBatch: 0 - 25 \tLoss: 78.79\n",
      "oas coitbeswo she oned\n",
      "oewtenp toeecdua re so s eehh frensusiee he lus ast fi.wdclifos houthen irc ekarf h\"d spaop, hatthhros nah. tratetdo\"'' ttedrue\n",
      "gt aiw nd awt aanufl rige\" srxs ystee wegenoli ds sseeise tai btsgi e\n",
      "tbomn sing tocrpite ho hoo to \n",
      "\n",
      "Epoch: 2 \tBatch: 0 - 25 \tLoss: 69.15\n",
      "uinl at do ds!id denusacn pnemeg me, inn bhe bredyl ttey ?\n",
      ".slnledlke ooal\n",
      "ygtnel mottea, !het pitke ih \"- shhedand sb thr wa\n",
      "y iskwt wu'phaus cooutn, as tort- - ose dut he  fllela reo hitr er. nessornes hotnett tkur ahut\n",
      "trhemivl, hin theres rithegm \n",
      "\n",
      "Epoch: 3 \tBatch: 0 - 25 \tLoss: 63.59\n",
      "withe tfry otterss ibou tlvejs him hetsht hisulo find. wand hulkl sor -t soppmcdond nt he sle cou ce oirhe busle wo, wh, \n",
      "o?be cud drke ee herm'ink owe oreter tomud hin' s she ltwleor the facw, anke sourl\", ing!ly thhy wn-, baonar io spre heme , hepx \n",
      "\n",
      "Epoch: 4 \tBatch: 0 - 25 \tLoss: 60.3\n",
      "he mot pde', aeh ury ha bs he hesey on fonley \" soruclne aresweingunf onfedmory he hire an 'ad nwadk phiung bher sole the ar sermondust soiwinl . e himlibe wal ot sra, covre ttao ecy te en oun he\n",
      "ary bidd \"u\" he wd ruming oid tavund bathe flond,un on \n",
      "\n",
      "Epoch: 5 \tBatch: 0 - 25 \tLoss: 58.13\n",
      "swcsi\n",
      "kor\n",
      "ind mis way tre totfe\n",
      "dyicg poles fom tlew iled lo unrnly rotkele atw -\" owive wir,  coupnllits -n ad mroserous in swet o dund haded nookl sfarigklo wicl, sklove deread sns the s anor hret ndory w'chenged gatheel\" the qid he aid mele hg. on \n",
      "\n",
      "Epoch: 6 \tBatch: 0 - 25 \tLoss: 56.53\n",
      "pleing sod\n",
      "stoukclis! bweshid no b mamce gimd ap id cald buvel. of tharf hiss pneer ras was, els lett itke gours tould tomey ond harly perons \"wacl dut and swuurl seoik, is af ahl dur-dyhe fwemund bldukid . win therd un nitlw if intk-o the .re aroyed \n",
      "\n",
      "Epoch: 7 \tBatch: 0 - 25 \tLoss: 55.22\n",
      "tlend wf mine as winged ap mut nve vind be tf sas intt yalye duns one foven sin't sevein the sint, ive wher thed doop- ntwand ed coin -- \" thid aulke hat' snestsekrno le therce yoe sot, suf, be bccnetout ove rworeptt dufhe on no the wha sakf sfing\n",
      "he \n",
      "\n",
      "Epoch: 8 \tBatch: 0 - 25 \tLoss: 54.09\n",
      "nit drle un coorey ble way in the goolls,whol the sleo tt ou het aly lad andin the wesben'f lidw mrsdousw\n",
      "renwe cf hase mutt\n",
      "ero its ant in thang he wat fon ther.\n",
      "we theed\n",
      "pon sem or plot, ulllyog nove shery. \"ing?r as waek stweng mrin swance dorem\n",
      "o \n",
      "\n",
      "Epoch: 9 \tBatch: 0 - 25 \tLoss: 53.08\n",
      "ptekoul hea whn'\n",
      "leak ni har. ou thin\n",
      "lumd. \" tt oricg dors youd hadt octhe \"pey, ninhing, hambl hrireduy hee pey, a-\n",
      "yust,. \"byickom\n",
      "somigh asllcend it the catd mughly he bud\n",
      "duedne rolein irl of thcl cat ingas.. the what andt aclling. do nthe haml, \n",
      "\n"
     ]
    }
   ],
   "source": [
    "J, params = model.train(data)"
   ]
  },
  {
   "cell_type": "code",
   "execution_count": 10,
   "metadata": {},
   "outputs": [
    {
     "data": {
      "image/png": "[encoded data removed]",
      "text/plain": [
       "<Figure size 432x288 with 1 Axes>"
      ]
     },
     "metadata": {
      "needs_background": "light"
     },
     "output_type": "display_data"
    }
   ],
   "source": [
    "# Result Plot\n",
    "plt.plot([i for i in range(len(J))], J)\n",
    "plt.xlabel('Epochs')\n",
    "plt.ylabel('Loss')\n",
    "plt.show()"
   ]
  },
  {
   "cell_type": "code",
   "execution_count": null,
   "metadata": {},
   "outputs": [],
   "source": []
  }
 ],
 "metadata": {
  "kernelspec": {
   "display_name": "ML",
   "language": "python",
   "name": "ml"
  },
  "language_info": {
   "codemirror_mode": {
    "name": "ipython",
    "version": 3
   },
   "file_extension": ".py",
   "mimetype": "text/x-python",
   "name": "python",
   "nbconvert_exporter": "python",
   "pygments_lexer": "ipython3",
   "version": "3.8.5"
  }
 },
 "nbformat": 4,
 "nbformat_minor": 4
}
