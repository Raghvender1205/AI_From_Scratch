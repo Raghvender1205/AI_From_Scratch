{
 "cells": [
  {
   "cell_type": "code",
   "execution_count": 1,
   "metadata": {},
   "outputs": [],
   "source": [
    "import math\n",
    "import numpy as np"
   ]
  },
  {
   "cell_type": "code",
   "execution_count": null,
   "metadata": {},
   "outputs": [],
   "source": [
    "class GaussianNB:\n",
    "    '''\n",
    "    Implementation of Gaussian Naive Bayes Classifier\n",
    "    \n",
    "    Assumptions\n",
    "    -> Each Feature is uncorrelated from each other\n",
    "    -> The values of the features are normally distributed.\n",
    "    \n",
    "    INPUT:\n",
    "    var_smoothing -> Float:\n",
    "        Portion of the largest Variance of all features that is added to the variances for calculation Stability\n",
    "    '''\n",
    "    def __init__(self, var_smoothing=True):\n",
    "        self.var_smoothing = var_smoothing\n",
    "        \n",
    "    def fit(self, X, y):\n",
    "        '''\n",
    "        Fit the Gaussian Naive Bayes according to X, y\n",
    "        \n",
    "        INPUT\n",
    "        1. X: List, size => [n_samples, n_features]\n",
    "            Training Vectors\n",
    "        \n",
    "        2. y: array-like, [n_samples,]\n",
    "            Target Values\n",
    "        '''\n",
    "        self.X, self.y = X, y\n",
    "        self.classes = np.unique(y)\n",
    "        self.parameters = []\n",
    "        \n",
    "        \"\"\"\n",
    "        If the ratio of data variance b/w dimensions is too small, it will cause numerical errors. \n",
    "        \n",
    "        To address this, we artificially boost the variance by epsilon, a small of the standard deviation\n",
    "        of the largest dimension. \n",
    "        \"\"\"\n",
    "        self.epsilon = self.var_smoothing * np.var(X, axis=0).max()\n",
    "        \n",
    "        # Calculate the mean and variance of each feature for each class\n",
    "        for i, c in enumerate(self.classes):\n",
    "            # Select only the rows where the label equals the given class \n",
    "            X_class = X[np.where(y == c)]\n",
    "            self.parameters.append([])\n",
    "            \n",
    "            for col in X_class.T:\n",
    "                parameters = {'mean': col.mean(), 'var': col.var()}\n",
    "                self.parameters[i].append(parameters)\n",
    "    \n",
    "    def "
   ]
  }
 ],
 "metadata": {
  "kernelspec": {
   "display_name": "ML",
   "language": "python",
   "name": "ml"
  },
  "language_info": {
   "codemirror_mode": {
    "name": "ipython",
    "version": 3
   },
   "file_extension": ".py",
   "mimetype": "text/x-python",
   "name": "python",
   "nbconvert_exporter": "python",
   "pygments_lexer": "ipython3",
   "version": "3.8.5"
  }
 },
 "nbformat": 4,
 "nbformat_minor": 4
}
