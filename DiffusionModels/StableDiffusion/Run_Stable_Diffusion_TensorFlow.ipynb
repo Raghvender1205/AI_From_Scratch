{
  "cells": [
    {
      "cell_type": "markdown",
      "metadata": {
        "colab_type": "text",
        "id": "view-in-github"
      },
      "source": [
        "<a href=\"https://colab.research.google.com/github/Raghvender1205/AI_From_Scratch/blob/main/DiffusionModels/StableDiffusion/Run_Stable_Diffusion_TensorFlow.ipynb\" target=\"_parent\"><img src=\"https://colab.research.google.com/assets/colab-badge.svg\" alt=\"Open In Colab\"/></a>"
      ]
    },
    {
      "cell_type": "code",
      "execution_count": 1,
      "metadata": {
        "colab": {
          "base_uri": "https://localhost:8080/"
        },
        "id": "bIwWeVgaKoCp",
        "outputId": "a9ed5824-fcd4-4b8a-8ac1-a562660f99ec"
      },
      "outputs": [
        {
          "name": "stdout",
          "output_type": "stream",
          "text": [
            "/content/drive/MyDrive/Diffusion Models/StableDiffusion\n"
          ]
        }
      ],
      "source": [
        "%cd /content/drive/MyDrive/Diffusion Models/StableDiffusion"
      ]
    },
    {
      "cell_type": "code",
      "execution_count": 2,
      "metadata": {
        "colab": {
          "base_uri": "https://localhost:8080/"
        },
        "id": "yaIHX2K8LlOV",
        "outputId": "ba8e9e98-a38a-4764-901b-e7363d58ec28"
      },
      "outputs": [
        {
          "name": "stdout",
          "output_type": "stream",
          "text": [
            " 2112.10752.pdf\t\t\t\t  stablediffusion\n",
            " README.md\t\t\t\t  stable_diffusion_torch.py\n",
            "'Run Stable Diffusion TensorFlow.ipynb'   text2img.py\n"
          ]
        }
      ],
      "source": [
        "!ls"
      ]
    },
    {
      "cell_type": "code",
      "execution_count": 3,
      "metadata": {
        "colab": {
          "base_uri": "https://localhost:8080/"
        },
        "id": "TZzOw9biLlhS",
        "outputId": "a8f49e01-ebf9-4b08-cf6a-88d1278d5717"
      },
      "outputs": [
        {
          "name": "stdout",
          "output_type": "stream",
          "text": [
            "Looking in indexes: https://pypi.org/simple, https://us-python.pkg.dev/colab-wheels/public/simple/\n",
            "Collecting tensorflow_addons\n",
            "  Downloading tensorflow_addons-0.18.0-cp37-cp37m-manylinux_2_17_x86_64.manylinux2014_x86_64.whl (1.1 MB)\n",
            "\u001b[K     |████████████████████████████████| 1.1 MB 25.3 MB/s \n",
            "\u001b[?25hCollecting ftfy\n",
            "  Downloading ftfy-6.1.1-py3-none-any.whl (53 kB)\n",
            "\u001b[K     |████████████████████████████████| 53 kB 2.1 MB/s \n",
            "\u001b[?25hRequirement already satisfied: typeguard>=2.7 in /usr/local/lib/python3.7/dist-packages (from tensorflow_addons) (2.7.1)\n",
            "Requirement already satisfied: packaging in /usr/local/lib/python3.7/dist-packages (from tensorflow_addons) (21.3)\n",
            "Requirement already satisfied: wcwidth>=0.2.5 in /usr/local/lib/python3.7/dist-packages (from ftfy) (0.2.5)\n",
            "Requirement already satisfied: pyparsing!=3.0.5,>=2.0.2 in /usr/local/lib/python3.7/dist-packages (from packaging->tensorflow_addons) (3.0.9)\n",
            "Installing collected packages: tensorflow-addons, ftfy\n",
            "Successfully installed ftfy-6.1.1 tensorflow-addons-0.18.0\n"
          ]
        }
      ],
      "source": [
        "!pip install tensorflow_addons ftfy"
      ]
    },
    {
      "cell_type": "code",
      "execution_count": 5,
      "metadata": {
        "colab": {
          "base_uri": "https://localhost:8080/"
        },
        "id": "iuOls58BLoGC",
        "outputId": "71b70102-263b-49d7-f7e0-4d08aa5a0540"
      },
      "outputs": [
        {
          "name": "stdout",
          "output_type": "stream",
          "text": [
            "2022-09-21 08:35:12.207862: W tensorflow/core/common_runtime/gpu/gpu_bfc_allocator.cc:39] Overriding allow_growth setting because the TF_FORCE_GPU_ALLOW_GROWTH environment variable is set. Original config value was 0.\n",
            "Downloading data from https://huggingface.co/fchollet/stable-diffusion/resolve/main/text_encoder.h5\n",
            "492462080/492456896 [==============================] - 2s 0us/step\n",
            "492470272/492456896 [==============================] - 2s 0us/step\n",
            "Downloading data from https://huggingface.co/fchollet/stable-diffusion/resolve/main/diffusion_model.h5\n",
            "3439042560/3439035312 [==============================] - 14s 0us/step\n",
            "3439050752/3439035312 [==============================] - 14s 0us/step\n",
            "Downloading data from https://huggingface.co/fchollet/stable-diffusion/resolve/main/decoder.h5\n",
            "198156288/198152112 [==============================] - 1s 0us/step\n",
            "198164480/198152112 [==============================] - 1s 0us/step\n",
            "  0   1: 100% 50/50 [01:12<00:00,  1.45s/it]\n",
            "saved at output.png\n"
          ]
        }
      ],
      "source": [
        "!python text2img.py --prompt \"An astronaut riding a horse\""
      ]
    },
    {
      "cell_type": "code",
      "execution_count": 7,
      "metadata": {
        "colab": {
          "base_uri": "https://localhost:8080/"
        },
        "id": "N4_HR4Q5LsOt",
        "outputId": "310d5d88-d611-43f8-dd3b-a8adb67f4195"
      },
      "outputs": [
        {
          "name": "stderr",
          "output_type": "stream",
          "text": [
            "  0   1: 100%|██████████| 50/50 [01:10<00:00,  1.40s/it]\n"
          ]
        }
      ],
      "source": [
        "from stablediffusion.stable_diffusion import Text2Image\n",
        "from PIL import Image\n",
        "\n",
        "generator = Text2Image(\n",
        "    img_height=512,\n",
        "    img_width=512,\n",
        "    jit_compile=False\n",
        ")\n",
        "\n",
        "img = generator.generate(\n",
        "    \"Norse God in Valhalla\",\n",
        "    num_steps=50,\n",
        "    unconditional_guidance_scale=7.5,\n",
        "    temperature=1,\n",
        "    batch_size=1\n",
        ")"
      ]
    },
    {
      "cell_type": "code",
      "execution_count": 8,
      "metadata": {
        "colab": {
          "base_uri": "https://localhost:8080/"
        },
        "id": "vcJw0LBxMdqO",
        "outputId": "622cd73e-36ce-47d0-ea96-44d19688a2d5"
      },
      "outputs": [
        {
          "data": {
            "text/plain": [
              "array([[[[33, 40, 34],\n",
              "         [30, 38, 33],\n",
              "         [33, 41, 40],\n",
              "         ...,\n",
              "         [30, 38, 37],\n",
              "         [33, 38, 39],\n",
              "         [30, 36, 32]],\n",
              "\n",
              "        [[36, 41, 38],\n",
              "         [33, 40, 37],\n",
              "         [35, 43, 42],\n",
              "         ...,\n",
              "         [32, 42, 40],\n",
              "         [28, 35, 34],\n",
              "         [30, 33, 31]],\n",
              "\n",
              "        [[29, 35, 36],\n",
              "         [42, 48, 48],\n",
              "         [36, 42, 43],\n",
              "         ...,\n",
              "         [33, 38, 39],\n",
              "         [32, 36, 37],\n",
              "         [31, 37, 37]],\n",
              "\n",
              "        ...,\n",
              "\n",
              "        [[77, 69, 49],\n",
              "         [77, 70, 52],\n",
              "         [77, 69, 52],\n",
              "         ...,\n",
              "         [48, 48, 40],\n",
              "         [49, 49, 41],\n",
              "         [51, 49, 41]],\n",
              "\n",
              "        [[78, 70, 52],\n",
              "         [77, 68, 51],\n",
              "         [77, 68, 52],\n",
              "         ...,\n",
              "         [50, 48, 39],\n",
              "         [48, 49, 39],\n",
              "         [51, 49, 39]],\n",
              "\n",
              "        [[72, 64, 51],\n",
              "         [77, 68, 52],\n",
              "         [75, 67, 50],\n",
              "         ...,\n",
              "         [49, 48, 40],\n",
              "         [47, 49, 40],\n",
              "         [55, 48, 36]]]], dtype=uint8)"
            ]
          },
          "execution_count": 8,
          "metadata": {},
          "output_type": "execute_result"
        }
      ],
      "source": [
        "img"
      ]
    },
    {
      "cell_type": "code",
      "execution_count": 9,
      "metadata": {
        "id": "6tpz738INbqt"
      },
      "outputs": [],
      "source": [
        "# Show Image Generated\n",
        "Image.fromarray(img[0]).save(\"output.png\")"
      ]
    },
    {
      "cell_type": "code",
      "execution_count": null,
      "metadata": {
        "id": "nmpL-PgJNiid"
      },
      "outputs": [],
      "source": []
    }
  ],
  "metadata": {
    "accelerator": "GPU",
    "colab": {
      "authorship_tag": "ABX9TyMnT1VwMM1Rryanpq35DxZb",
      "include_colab_link": true,
      "mount_file_id": "1F65QX5Pf69HM7V-64l5Hwe-SN6klRnRV",
      "provenance": []
    },
    "kernelspec": {
      "display_name": "Python 3.10.4 64-bit",
      "language": "python",
      "name": "python3"
    },
    "language_info": {
      "name": "python",
      "version": "3.10.4"
    },
    "vscode": {
      "interpreter": {
        "hash": "377e50a5246b311701775dacc641cf519e90716189c79b110a6f1ebdee9e2206"
      }
    }
  },
  "nbformat": 4,
  "nbformat_minor": 0
}
