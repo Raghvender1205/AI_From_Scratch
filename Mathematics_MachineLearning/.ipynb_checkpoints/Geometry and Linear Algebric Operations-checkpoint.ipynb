{
 "cells": [
  {
   "cell_type": "markdown",
   "id": "bc9db605",
   "metadata": {},
   "source": [
    "### Geometry of Vectors\n",
    "\n",
    "We refer them as `row` or `col` vector \n",
    "\\begin{split}\\mathbf{x} = \\begin{bmatrix}1\\\\7\\\\0\\\\1\\end{bmatrix},\\end{split}\n"
   ]
  },
  {
   "cell_type": "code",
   "execution_count": 1,
   "id": "211319d9",
   "metadata": {},
   "outputs": [],
   "source": [
    "x = [1, 7, 0, 1]"
   ]
  },
  {
   "cell_type": "markdown",
   "id": "7d24f155",
   "metadata": {},
   "source": [
    "### Dot Products and Angles\n",
    "If we take two `col` vectors `u` and `v`, we can perform their dot product \n",
    "\n",
    "$\\mathbf{u}^\\top\\mathbf{v} = \\sum_i u_i\\cdot v_i.$\n",
    "\n",
    "The `dot` product also has a geometric interpretation, it is closely related to the `angle` b/w the two vectors.\n",
    "Consider this\n",
    "\n",
    "<img src=\"http://www.d2l.ai/_images/vec-angle.svg\"/>\n",
    "\n",
    "We take two specific vectors\n",
    "\n",
    "$\\mathbf{v} = (r,0) \\; \\text{and} \\; \\mathbf{w} = (s\\cos(\\theta), s \\sin(\\theta)).$\n",
    "\n",
    "The vector `v` is of length `r` and runs parallel to the `x-axis`, and vector `w` is of length `s` and at angle $\\theta$. If we compute the `dot` product of these vectors, we get\n",
    "\n",
    "$\\mathbf{v}\\cdot\\mathbf{w} = rs\\cos(\\theta) = \\|\\mathbf{v}\\|\\|\\mathbf{w}\\|\\cos(\\theta).$"
   ]
  },
  {
   "cell_type": "code",
   "execution_count": 2,
   "id": "46ed3840",
   "metadata": {},
   "outputs": [],
   "source": [
    "import torch\n",
    "import torchvision\n",
    "from IPython import display\n",
    "from torchvision import transforms"
   ]
  },
  {
   "cell_type": "code",
   "execution_count": 3,
   "id": "80b0083e",
   "metadata": {},
   "outputs": [
    {
     "data": {
      "text/plain": [
       "tensor(0.4190)"
      ]
     },
     "execution_count": 3,
     "metadata": {},
     "output_type": "execute_result"
    }
   ],
   "source": [
    "# Angle b/w two vectors\n",
    "def angle(v, w):\n",
    "    return torch.acos(v.dot(w) / (torch.norm(v) * torch.norm(w)))\n",
    "\n",
    "angle(torch.tensor([0, 1, 2], dtype=torch.float32), torch.tensor([2.0, 3, 4]))"
   ]
  },
  {
   "cell_type": "markdown",
   "id": "a609c87d",
   "metadata": {},
   "source": [
    "### Cosine Similarity\n",
    "In ML, where the angle is used to measure the `closeness` of two vectors, we use `cosine similarity`.\n",
    "\n",
    "$\\cos(\\theta) = \\frac{\\mathbf{v}\\cdot\\mathbf{w}}{\\|\\mathbf{v}\\|\\|\\mathbf{w}\\|}.$\n",
    "\n",
    "The `cosine` takes `max = 1` when two vectors point in the same direction, a `min = -1` when they point in opposite directions, and add a value of `0` when the two vectors are `orthogonal`. If the components of high dimensional vectors are sampled randomly with mean `0`, their `cosine` will nearly be close to `0`.\n",
    "\n",
    "### HyperPlanes\n",
    "They are a generalization to higher dimensions of a `line` or of a `plane`. In `d` dimensional vector space, a hyperplane has `d-1` dimensions.\n",
    "\n",
    "Suppose we have a `col` vector $\\mathbf{w}=[2,1]^\\top$, we want to know what are the points `v` with `w.v = 1`?. By recalling the connection b/w `dot` products and `angles`. we can see that this is equivalent to\n",
    "\n",
    "$\\|\\mathbf{v}\\|\\|\\mathbf{w}\\|\\cos(\\theta) = 1 \\; \\iff \\; \\|\\mathbf{v}\\|\\cos(\\theta) = \\frac{1}{\\|\\mathbf{w}\\|} = \\frac{1}{\\sqrt{5}}.$\n",
    "\n",
    "<img src=\"http://www.d2l.ai/_images/proj-vec.svg\"/>\n",
    "\n",
    "If we consider the geometric meaning of the expression, we see it is equivalent to say that the length of the projection of `v` onto the direction of `w` is exactly $1/\\|\\mathbf{w}\\|$. The set of all points where this is true is a line at right angles to the vector `w`. \n",
    "\n",
    "When we look at what happens when we ask about a set of points with $\\mathbf{w}\\cdot\\mathbf{v} > 1$ or $\\mathbf{w}\\cdot\\mathbf{v} < 1$, we can see that there are cases where the projections are longer or shorter than $1/\\|\\mathbf{w}\\|$. In this way, we have found a way to cut our space into two halves, where all the points on one side have dot product below a threshold.\n",
    "<img src=\"http://www.d2l.ai/_images/space-division.svg\"/>\n",
    "\n",
    "The story of high dimension is also the same. If we take $\\mathbf{w} = [1,2,3]^\\top$ and ask about the points in 3D with $\\mathbf{w}\\cdot\\mathbf{v} = 1$, we obtain a plane at `right` angles to the vector `w`. The two inequalities define the two sides of the plane\n",
    "<img src=\"http://www.d2l.ai/_images/space-division-3d.svg\"/>\n",
    "\n",
    "We can understand `linear classification models` as methods to find `hyperplanes` that separate the different target classes. In this, such `hyperplanes` are referred to as `decision planes`. These models end with a `linear` layer fed into a `softmax`, so one can interpret the role of the deep neural network to be find a `non-linear` embedding such that the `target classes` can be seperated cleanly by hyperplanes. \n",
    "\n",
    "For example, below we classify MNIST dataset by just taking the vector b/w their means to define the `decision plane`."
   ]
  },
  {
   "cell_type": "code",
   "execution_count": 5,
   "id": "59328a6a",
   "metadata": {},
   "outputs": [
    {
     "name": "stdout",
     "output_type": "stream",
     "text": [
      "Downloading http://fashion-mnist.s3-website.eu-central-1.amazonaws.com/train-images-idx3-ubyte.gz\n",
      "Downloading http://fashion-mnist.s3-website.eu-central-1.amazonaws.com/train-images-idx3-ubyte.gz to data/FashionMNIST\\raw\\train-images-idx3-ubyte.gz\n"
     ]
    },
    {
     "data": {
      "application/vnd.jupyter.widget-view+json": {
       "model_id": "4429406c25f9498c8d5370d3211a0942",
       "version_major": 2,
       "version_minor": 0
      },
      "text/plain": [
       "  0%|          | 0/26421880 [00:00<?, ?it/s]"
      ]
     },
     "metadata": {},
     "output_type": "display_data"
    },
    {
     "name": "stdout",
     "output_type": "stream",
     "text": [
      "Extracting data/FashionMNIST\\raw\\train-images-idx3-ubyte.gz to data/FashionMNIST\\raw\n",
      "\n",
      "Downloading http://fashion-mnist.s3-website.eu-central-1.amazonaws.com/train-labels-idx1-ubyte.gz\n",
      "Downloading http://fashion-mnist.s3-website.eu-central-1.amazonaws.com/train-labels-idx1-ubyte.gz to data/FashionMNIST\\raw\\train-labels-idx1-ubyte.gz\n"
     ]
    },
    {
     "data": {
      "application/vnd.jupyter.widget-view+json": {
       "model_id": "dda41c13e3a0433f8310eb8556ccad52",
       "version_major": 2,
       "version_minor": 0
      },
      "text/plain": [
       "  0%|          | 0/29515 [00:00<?, ?it/s]"
      ]
     },
     "metadata": {},
     "output_type": "display_data"
    },
    {
     "name": "stdout",
     "output_type": "stream",
     "text": [
      "Extracting data/FashionMNIST\\raw\\train-labels-idx1-ubyte.gz to data/FashionMNIST\\raw\n",
      "\n",
      "Downloading http://fashion-mnist.s3-website.eu-central-1.amazonaws.com/t10k-images-idx3-ubyte.gz\n",
      "Downloading http://fashion-mnist.s3-website.eu-central-1.amazonaws.com/t10k-images-idx3-ubyte.gz to data/FashionMNIST\\raw\\t10k-images-idx3-ubyte.gz\n"
     ]
    },
    {
     "data": {
      "application/vnd.jupyter.widget-view+json": {
       "model_id": "c87fec8c90724f238f1026217bc624e3",
       "version_major": 2,
       "version_minor": 0
      },
      "text/plain": [
       "  0%|          | 0/4422102 [00:00<?, ?it/s]"
      ]
     },
     "metadata": {},
     "output_type": "display_data"
    },
    {
     "name": "stdout",
     "output_type": "stream",
     "text": [
      "Extracting data/FashionMNIST\\raw\\t10k-images-idx3-ubyte.gz to data/FashionMNIST\\raw\n",
      "\n",
      "Downloading http://fashion-mnist.s3-website.eu-central-1.amazonaws.com/t10k-labels-idx1-ubyte.gz\n",
      "Downloading http://fashion-mnist.s3-website.eu-central-1.amazonaws.com/t10k-labels-idx1-ubyte.gz to data/FashionMNIST\\raw\\t10k-labels-idx1-ubyte.gz\n"
     ]
    },
    {
     "data": {
      "application/vnd.jupyter.widget-view+json": {
       "model_id": "92859502d3ca4ae4b925496fe79dd837",
       "version_major": 2,
       "version_minor": 0
      },
      "text/plain": [
       "  0%|          | 0/5148 [00:00<?, ?it/s]"
      ]
     },
     "metadata": {},
     "output_type": "display_data"
    },
    {
     "name": "stdout",
     "output_type": "stream",
     "text": [
      "Extracting data/FashionMNIST\\raw\\t10k-labels-idx1-ubyte.gz to data/FashionMNIST\\raw\n",
      "\n"
     ]
    },
    {
     "ename": "TypeError",
     "evalue": "expected Tensor as element 0 in argument 0, but got int",
     "output_type": "error",
     "traceback": [
      "\u001b[1;31m---------------------------------------------------------------------------\u001b[0m",
      "\u001b[1;31mTypeError\u001b[0m                                 Traceback (most recent call last)",
      "Input \u001b[1;32mIn [5]\u001b[0m, in \u001b[0;36m<cell line: 10>\u001b[1;34m()\u001b[0m\n\u001b[0;32m      6\u001b[0m test \u001b[38;5;241m=\u001b[39m torchvision\u001b[38;5;241m.\u001b[39mdatasets\u001b[38;5;241m.\u001b[39mFashionMNIST(root\u001b[38;5;241m=\u001b[39m\u001b[38;5;124m'\u001b[39m\u001b[38;5;124mdata/\u001b[39m\u001b[38;5;124m'\u001b[39m, transform\u001b[38;5;241m=\u001b[39mtrans, train\u001b[38;5;241m=\u001b[39m\u001b[38;5;28;01mFalse\u001b[39;00m, download\u001b[38;5;241m=\u001b[39m\u001b[38;5;28;01mTrue\u001b[39;00m)\n\u001b[0;32m      8\u001b[0m X_train_0 \u001b[38;5;241m=\u001b[39m torch\u001b[38;5;241m.\u001b[39mstack(\n\u001b[0;32m      9\u001b[0m     [x[\u001b[38;5;241m0\u001b[39m] \u001b[38;5;241m*\u001b[39m \u001b[38;5;241m256\u001b[39m \u001b[38;5;28;01mfor\u001b[39;00m x \u001b[38;5;129;01min\u001b[39;00m train \u001b[38;5;28;01mif\u001b[39;00m x[\u001b[38;5;241m1\u001b[39m] \u001b[38;5;241m==\u001b[39m \u001b[38;5;241m0\u001b[39m])\u001b[38;5;241m.\u001b[39mtype(torch\u001b[38;5;241m.\u001b[39mfloat32)\n\u001b[1;32m---> 10\u001b[0m X_train_1 \u001b[38;5;241m=\u001b[39m \u001b[43mtorch\u001b[49m\u001b[38;5;241;43m.\u001b[39;49m\u001b[43mstack\u001b[49m\u001b[43m(\u001b[49m\n\u001b[0;32m     11\u001b[0m \u001b[43m    \u001b[49m\u001b[43m[\u001b[49m\u001b[43mx\u001b[49m\u001b[43m[\u001b[49m\u001b[38;5;241;43m1\u001b[39;49m\u001b[43m]\u001b[49m\u001b[43m \u001b[49m\u001b[38;5;241;43m*\u001b[39;49m\u001b[43m \u001b[49m\u001b[38;5;241;43m256\u001b[39;49m\u001b[43m \u001b[49m\u001b[38;5;28;43;01mfor\u001b[39;49;00m\u001b[43m \u001b[49m\u001b[43mx\u001b[49m\u001b[43m \u001b[49m\u001b[38;5;129;43;01min\u001b[39;49;00m\u001b[43m \u001b[49m\u001b[43mtrain\u001b[49m\u001b[43m \u001b[49m\u001b[38;5;28;43;01mif\u001b[39;49;00m\u001b[43m \u001b[49m\u001b[43mx\u001b[49m\u001b[43m[\u001b[49m\u001b[38;5;241;43m1\u001b[39;49m\u001b[43m]\u001b[49m\u001b[43m \u001b[49m\u001b[38;5;241;43m==\u001b[39;49m\u001b[43m \u001b[49m\u001b[38;5;241;43m1\u001b[39;49m\u001b[43m]\u001b[49m\u001b[43m)\u001b[49m\u001b[38;5;241m.\u001b[39mtype(torch\u001b[38;5;241m.\u001b[39mfloat32)\n\u001b[0;32m     12\u001b[0m X_test \u001b[38;5;241m=\u001b[39m torch\u001b[38;5;241m.\u001b[39mstack(\n\u001b[0;32m     13\u001b[0m     [x[\u001b[38;5;241m0\u001b[39m] \u001b[38;5;241m*\u001b[39m \u001b[38;5;241m256\u001b[39m \u001b[38;5;28;01mfor\u001b[39;00m x \u001b[38;5;129;01min\u001b[39;00m test \u001b[38;5;28;01mif\u001b[39;00m x[\u001b[38;5;241m1\u001b[39m] \u001b[38;5;241m==\u001b[39m \u001b[38;5;241m0\u001b[39m \u001b[38;5;129;01mor\u001b[39;00m x[\u001b[38;5;241m1\u001b[39m] \u001b[38;5;241m==\u001b[39m \u001b[38;5;241m1\u001b[39m])\u001b[38;5;241m.\u001b[39mtype(torch\u001b[38;5;241m.\u001b[39mfloat32)\n\u001b[0;32m     14\u001b[0m y_test \u001b[38;5;241m=\u001b[39m torch\u001b[38;5;241m.\u001b[39mstack([torch\u001b[38;5;241m.\u001b[39mtensor(x[\u001b[38;5;241m1\u001b[39m]) \u001b[38;5;28;01mfor\u001b[39;00m x \u001b[38;5;129;01min\u001b[39;00m test\n\u001b[0;32m     15\u001b[0m                       \u001b[38;5;28;01mif\u001b[39;00m x[\u001b[38;5;241m1\u001b[39m] \u001b[38;5;241m==\u001b[39m \u001b[38;5;241m0\u001b[39m \u001b[38;5;129;01mor\u001b[39;00m x[\u001b[38;5;241m1\u001b[39m] \u001b[38;5;241m==\u001b[39m \u001b[38;5;241m1\u001b[39m])\u001b[38;5;241m.\u001b[39mtype(torch\u001b[38;5;241m.\u001b[39mfloat32)\n",
      "\u001b[1;31mTypeError\u001b[0m: expected Tensor as element 0 in argument 0, but got int"
     ]
    }
   ],
   "source": [
    "trans = transforms.Compose([\n",
    "    transforms.ToTensor()\n",
    "])\n",
    "\n",
    "train = torchvision.datasets.FashionMNIST(root='data/', transform=trans, train=True, download=True)\n",
    "test = torchvision.datasets.FashionMNIST(root='data/', transform=trans, train=False, download=True)\n",
    "\n",
    "X_train_0 = torch.stack(\n",
    "    [x[0] * 256 for x in train if x[1] == 0]).type(torch.float32)\n",
    "X_train_1 = torch.stack(\n",
    "    [x[1] * 256 for x in train if x[1] == 1]).type(torch.float32)\n",
    "X_test = torch.stack(\n",
    "    [x[0] * 256 for x in test if x[1] == 0 or x[1] == 1]).type(torch.float32)\n",
    "y_test = torch.stack([torch.tensor(x[1]) for x in test\n",
    "                      if x[1] == 0 or x[1] == 1]).type(torch.float32)\n",
    "\n",
    "# Compute averages\n",
    "ave_0 = torch.mean(X_train_0, axis=0)\n",
    "ave_1 = torch.mean(X_train_1, axis=0)"
   ]
  },
  {
   "cell_type": "code",
   "execution_count": null,
   "id": "6eef20ae",
   "metadata": {},
   "outputs": [],
   "source": []
  }
 ],
 "metadata": {
  "kernelspec": {
   "display_name": "Python 3 (ipykernel)",
   "language": "python",
   "name": "python3"
  },
  "language_info": {
   "codemirror_mode": {
    "name": "ipython",
    "version": 3
   },
   "file_extension": ".py",
   "mimetype": "text/x-python",
   "name": "python",
   "nbconvert_exporter": "python",
   "pygments_lexer": "ipython3",
   "version": "3.10.4"
  }
 },
 "nbformat": 4,
 "nbformat_minor": 5
}
