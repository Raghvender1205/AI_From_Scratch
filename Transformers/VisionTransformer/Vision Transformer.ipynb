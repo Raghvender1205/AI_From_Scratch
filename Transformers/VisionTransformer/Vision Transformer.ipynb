{
 "cells": [
  {
   "cell_type": "code",
   "execution_count": 1,
   "metadata": {},
   "outputs": [
    {
     "name": "stderr",
     "output_type": "stream",
     "text": [
      "C:\\ProgramData\\Anaconda3\\envs\\ML\\lib\\site-packages\\tensorflow_addons\\utils\\ensure_tf_install.py:54: UserWarning: Tensorflow Addons supports using Python ops for all Tensorflow versions above or equal to 2.2.0 and strictly below 2.4.0 (nightly versions are not supported). \n",
      " The versions of TensorFlow you are currently using is 2.7.0 and is not supported. \n",
      "Some things might work, some things might not.\n",
      "If you were to encounter a bug, do not file an issue.\n",
      "If you want to make sure you're using a tested and supported configuration, either change the TensorFlow version or the TensorFlow Addons's version. \n",
      "You can find the compatibility matrix in TensorFlow Addon's readme:\n",
      "https://github.com/tensorflow/addons\n",
      "  warnings.warn(\n"
     ]
    }
   ],
   "source": [
    "import os\n",
    "import numpy as np\n",
    "\n",
    "import tensorflow as tf\n",
    "import tensorflow_addons as tfa\n",
    "import tensorflow_datasets as tfds\n",
    "from tensorflow.keras.layers import Dense, Dropout, LayerNormalization\n",
    "from tensorflow.keras.layers.experimental.preprocessing import Rescaling\n",
    "from tensorflow.keras.callbacks import TensorBoard"
   ]
  },
  {
   "cell_type": "code",
   "execution_count": 4,
   "metadata": {},
   "outputs": [],
   "source": [
    "class MultiheadSelfAttention(tf.keras.layers.Layer):\n",
    "    def __init__(self, embed_dim, num_heads=8):\n",
    "        super(MultiheadSelfAttention, self).__init__()\n",
    "        self.embed_dim = embed_dim\n",
    "        self.num_heads = num_heads\n",
    "        if embed_dim % num_heads != 0:\n",
    "            raise ValueError(f\"Embedding dimension = {embed_dim} should be divisible by number of heads = {num_heads}\")\n",
    "        self.projection_dim = embed_dim // num_heads\n",
    "        # Attention takes 3 inputs: query, key, value\n",
    "        self.query_dense = Dense(embed_dim)\n",
    "        self.key_dense = Dense(embed_dim)\n",
    "        self.value_dense = Dense(embed_dim)\n",
    "        self.combine_heads = Dense(embed_dim)\n",
    "        \n",
    "    def attention(self, query, key, value):\n",
    "        # Use the Product b/w queries and keys to know \"how much\" each element \n",
    "        # is the Sequence is important with the rest\n",
    "        score = tf.matmul(query, key, transpose_b=True)\n",
    "        dim_key = tf.cast(tf.shape(key)[-1], tf.float32)\n",
    "        # Resulting vector, score is divided by a scaling factor based on the size of the embedding\n",
    "        # Scaling fcator is square root of the embeding dimension\n",
    "        scaled_score = score / tf.math.sqrt(dim_key)\n",
    "        # The attention scaled_score is then softmaxed\n",
    "        weights = tf.nn.softmax(scaled_score, axis=-1)\n",
    "        # Attention(Q, K, V ) = softmax[(QK)/√dim_key]V\n",
    "        output = tf.matmul(weights, value)\n",
    "        return output, weights\n",
    "    \n",
    "    def separate_heads(self, x, batch_size):\n",
    "        x = tf.reshape(\n",
    "            x, (batch_size, -1, self.num_heads, self.projection_dim)\n",
    "        )\n",
    "        return tf.transpose(x, perm=[0, 2, 1, 3])\n",
    "\n",
    "    def call(self, inputs): \n",
    "        batch_size = tf.shape(inputs)[0]\n",
    "        # MSA takes the queries, keys, and values  as input from the previous layer \n",
    "        # and projects them using the three linear layers.\n",
    "        query = self.query_dense(inputs)\n",
    "        key = self.key_dense(inputs)\n",
    "        value = self.value_dense(inputs)\n",
    "        query = self.separate_heads(query, batch_size)\n",
    "        key = self.separate_heads(key, batch_size)\n",
    "        value = self.separate_heads(value, batch_size)\n",
    "\n",
    "        attention, weights = self.attention(query, key, value)\n",
    "        attention = tf.transpose(attention, perm=[0, 2, 1, 3])\n",
    "        concat_attention = tf.reshape(\n",
    "            attention, (batch_size, -1, self.embed_dim)\n",
    "        )\n",
    "        # Self attention of different heads are concatenated  \n",
    "        output = self.combine_heads(concat_attention)\n",
    "        return output"
   ]
  },
  {
   "cell_type": "code",
   "execution_count": 5,
   "metadata": {},
   "outputs": [],
   "source": [
    "class TransformerBlock(tf.keras.layers.Layer):\n",
    "    def __init__(self, embed_dim, num_heads, ff_dim, dropout=0.1):\n",
    "        super(TransformerBlock, self).__init__()\n",
    "        # Transfromer block multi-head Self Attention\n",
    "        self.multiheadselfattention = MultiHeadSelfAttention(embed_dim, num_heads)\n",
    "        self.ffn = tf.keras.Sequential(\n",
    "            [Dense(ff_dim, activation=\"relu\"), Dense(embed_dim),]\n",
    "        )\n",
    "        self.layernorm1 = LayerNormalization(epsilon=1e-6)\n",
    "        self.layernorm2 = LayerNormalization(epsilon=1e-6)\n",
    "        self.dropout1 = Dropout(dropout)\n",
    "        self.dropout2 = Dropout(dropout)\n",
    "\n",
    "    def call(self, inputs, training):\n",
    "        out1 = self.layernorm1(inputs)       \n",
    "        attention_output = self.multiheadselfattention(out1)\n",
    "        attention_output = self.dropout1(attention_output, training=training)       \n",
    "        out2 = self.layernorm1(inputs + attention_output)\n",
    "        ffn_output = self.ffn(out2)\n",
    "        ffn_output = self.dropout2(ffn_output, training=training)\n",
    "        return self.layernorm2(out2 + ffn_output)"
   ]
  },
  {
   "cell_type": "code",
   "execution_count": 6,
   "metadata": {},
   "outputs": [],
   "source": [
    "class VisionTransformer(tf.keras.Model):\n",
    "    def __init__(\n",
    "        self,\n",
    "        image_size,\n",
    "        patch_size,\n",
    "        num_layers,\n",
    "        num_classes,\n",
    "        d_model,\n",
    "        num_heads,\n",
    "        mlp_dim,\n",
    "        channels=3,\n",
    "        dropout=0.1,\n",
    "    ):\n",
    "        super(VisionTransformer, self).__init__()\n",
    "        # Create patches based on patch_size\n",
    "        # image_size/patch_size==0\n",
    "        num_patches=self.create_patch(image_size,patch_size, channels)\n",
    "        self.d_model = d_model\n",
    "        self.rescale = Rescaling(1./255)\n",
    "        self.patch_proj= self.create_postional_embedding(num_patches, d_model)\n",
    "        self.enc_layers = [\n",
    "            TransformerBlock(d_model, num_heads, mlp_dim, dropout)\n",
    "            for _ in range(num_layers)\n",
    "        ]\n",
    "        self.mlp_head = tf.keras.Sequential(\n",
    "            [\n",
    "                Dense(mlp_dim, activation=tfa.activations.gelu),\n",
    "                Dropout(dropout),\n",
    "                Dense(num_classes),\n",
    "            ]\n",
    "        )\n",
    "\n",
    "    def create_patch(self, image_size, patch_size, channels):\n",
    "        num_patches = (image_size // patch_size) ** 2\n",
    "        self.patch_dim = channels * patch_size ** 2\n",
    "        self.patch_size = patch_size\n",
    "        return num_patches\n",
    "    def create_postional_embedding(self,num_patches, d_model):\n",
    "        self.pos_emb = self.add_weight(\"pos_emb\", shape=(1, num_patches + 1, d_model))\n",
    "        self.class_emb = self.add_weight(\"class_emb\", shape=(1, 1, d_model))\n",
    "        print(self.class_emb.shape)\n",
    "        return Dense(d_model)\n",
    "   \n",
    "        \n",
    "    def extract_patches(self, images):\n",
    "        batch_size = tf.shape(images)[0]\n",
    "        patches = tf.image.extract_patches(\n",
    "            images=images,\n",
    "            sizes=[1, self.patch_size, self.patch_size, 1],\n",
    "            strides=[1, self.patch_size, self.patch_size, 1],\n",
    "            rates=[1, 1, 1, 1],\n",
    "            padding=\"VALID\",\n",
    "        )\n",
    "        patches = tf.reshape(patches, [batch_size, -1, self.patch_dim])\n",
    "        return patches\n",
    "\n",
    "    def call(self, x, training):\n",
    "        batch_size = tf.shape(x)[0]\n",
    "        # Rescale \n",
    "        x = self.rescale(x)\n",
    "        # Extract the patches from the image\n",
    "        patches = self.extract_patches(x)\n",
    "        # Apply the postio embedding\n",
    "        x = self.patch_proj(patches)        \n",
    "        class_emb = tf.broadcast_to(\n",
    "            self.class_emb, [batch_size, 1, self.d_model]\n",
    "        )              \n",
    "        x = tf.concat([class_emb, x], axis=1)\n",
    "        x = x + self.pos_emb        \n",
    "        for layer in self.enc_layers:\n",
    "            x = layer(x, training)\n",
    "        x = self.mlp_head(x[:, 0])\n",
    "        return x"
   ]
  },
  {
   "cell_type": "code",
   "execution_count": 7,
   "metadata": {},
   "outputs": [
    {
     "name": "stdout",
     "output_type": "stream",
     "text": [
      "\u001b[1mDownloading and preparing dataset Unknown size (download: Unknown size, generated: Unknown size, total: Unknown size) to C:\\Users\\RC\\tensorflow_datasets\\cifar10\\3.0.2...\u001b[0m\n"
     ]
    },
    {
     "data": {
      "application/vnd.jupyter.widget-view+json": {
       "model_id": "ca295062b9ee4971a7adb73d4ff7167f",
       "version_major": 2,
       "version_minor": 0
      },
      "text/plain": [
       "Dl Completed...: 0 url [00:00, ? url/s]"
      ]
     },
     "metadata": {},
     "output_type": "display_data"
    },
    {
     "data": {
      "application/vnd.jupyter.widget-view+json": {
       "model_id": "07110443329547fe853788d4bc09c7a2",
       "version_major": 2,
       "version_minor": 0
      },
      "text/plain": [
       "Dl Size...: 0 MiB [00:00, ? MiB/s]"
      ]
     },
     "metadata": {},
     "output_type": "display_data"
    },
    {
     "data": {
      "application/vnd.jupyter.widget-view+json": {
       "model_id": "f980d1e2d225419289a4bf005a8694e1",
       "version_major": 2,
       "version_minor": 0
      },
      "text/plain": [
       "Extraction completed...: 0 file [00:00, ? file/s]"
      ]
     },
     "metadata": {},
     "output_type": "display_data"
    },
    {
     "data": {
      "application/vnd.jupyter.widget-view+json": {
       "model_id": "c7e69eb6e38b48c599303a749c886b6f",
       "version_major": 2,
       "version_minor": 0
      },
      "text/plain": [
       "Generating splits...:   0%|          | 0/2 [00:00<?, ? splits/s]"
      ]
     },
     "metadata": {},
     "output_type": "display_data"
    },
    {
     "data": {
      "application/vnd.jupyter.widget-view+json": {
       "model_id": "40d866ea96ae449fb9e9718d10dc135a",
       "version_major": 2,
       "version_minor": 0
      },
      "text/plain": [
       "Generating train examples...: 0 examples [00:00, ? examples/s]"
      ]
     },
     "metadata": {},
     "output_type": "display_data"
    },
    {
     "data": {
      "application/vnd.jupyter.widget-view+json": {
       "model_id": "ac12f9f1795e430ebbe0ceab816d8543",
       "version_major": 2,
       "version_minor": 0
      },
      "text/plain": [
       "Shuffling cifar10-train.tfrecord...:   0%|          | 0/50000 [00:00<?, ? examples/s]"
      ]
     },
     "metadata": {},
     "output_type": "display_data"
    },
    {
     "data": {
      "application/vnd.jupyter.widget-view+json": {
       "model_id": "48ad6fde9a76412f98ec900d5c3d62ee",
       "version_major": 2,
       "version_minor": 0
      },
      "text/plain": [
       "Generating test examples...: 0 examples [00:00, ? examples/s]"
      ]
     },
     "metadata": {},
     "output_type": "display_data"
    },
    {
     "data": {
      "application/vnd.jupyter.widget-view+json": {
       "model_id": "dad5f495c1a2418c9b073ae92bce7a29",
       "version_major": 2,
       "version_minor": 0
      },
      "text/plain": [
       "Shuffling cifar10-test.tfrecord...:   0%|          | 0/10000 [00:00<?, ? examples/s]"
      ]
     },
     "metadata": {},
     "output_type": "display_data"
    },
    {
     "name": "stdout",
     "output_type": "stream",
     "text": [
      "\u001b[1mDataset cifar10 downloaded and prepared to C:\\Users\\RC\\tensorflow_datasets\\cifar10\\3.0.2. Subsequent calls will reuse this data.\u001b[0m\n"
     ]
    },
    {
     "ename": "ValueError",
     "evalue": "too many values to unpack (expected 2)",
     "output_type": "error",
     "traceback": [
      "\u001b[1;31m---------------------------------------------------------------------------\u001b[0m",
      "\u001b[1;31mValueError\u001b[0m                                Traceback (most recent call last)",
      "\u001b[1;32m<ipython-input-7-ac8b346aace7>\u001b[0m in \u001b[0;36m<module>\u001b[1;34m\u001b[0m\n\u001b[0;32m     19\u001b[0m     \u001b[1;33m.\u001b[0m\u001b[0mprefetch\u001b[0m\u001b[1;33m(\u001b[0m\u001b[0mAUTOTUNE\u001b[0m\u001b[1;33m)\u001b[0m\u001b[1;33m\u001b[0m\u001b[1;33m\u001b[0m\u001b[0m\n\u001b[0;32m     20\u001b[0m )\n\u001b[1;32m---> 21\u001b[1;33m ds_test, info = (\n\u001b[0m\u001b[0;32m     22\u001b[0m     \u001b[0mds\u001b[0m\u001b[1;33m[\u001b[0m\u001b[1;34m\"test\"\u001b[0m\u001b[1;33m]\u001b[0m\u001b[1;33m\u001b[0m\u001b[1;33m\u001b[0m\u001b[0m\n\u001b[0;32m     23\u001b[0m     \u001b[1;33m.\u001b[0m\u001b[0mcache\u001b[0m\u001b[1;33m(\u001b[0m\u001b[1;33m)\u001b[0m\u001b[1;33m\u001b[0m\u001b[1;33m\u001b[0m\u001b[0m\n",
      "\u001b[1;31mValueError\u001b[0m: too many values to unpack (expected 2)"
     ]
    }
   ],
   "source": [
    "AUTOTUNE = tf.data.experimental.AUTOTUNE\n",
    "\n",
    "IMAGE_SIZE=32\n",
    "PATCH_SIZE=4 \n",
    "NUM_LAYERS=8\n",
    "NUM_HEADS=16\n",
    "MLP_DIM=128\n",
    "lr=0.001\n",
    "WEIGHT_DECAY=1e-4\n",
    "BATCH_SIZE=64\n",
    "epochs=30\n",
    "\n",
    "ds, info = tfds.load(\"cifar10\", as_supervised=True, with_info=True)\n",
    "ds_train = (\n",
    "    ds[\"train\"]\n",
    "    .cache()\n",
    "    .shuffle(1024)\n",
    "    .batch(BATCH_SIZE)\n",
    "    .prefetch(AUTOTUNE)\n",
    ")\n",
    "ds_test, info = (\n",
    "    ds[\"test\"]\n",
    "    .cache()\n",
    "    .batch(BATCH_SIZE)\n",
    "    .prefetch(AUTOTUNE)\n",
    ")\n",
    "\n",
    "\n",
    "model = VisionTransformer(\n",
    "    image_size=IMAGE_SIZE,\n",
    "    patch_size=PATCH_SIZE,\n",
    "    num_layers=NUM_LAYERS,\n",
    "    num_classes=10,\n",
    "    d_model=64,\n",
    "    num_heads=NUM_HEADS,\n",
    "    mlp_dim=MLP_DIM,\n",
    "    channels=3,\n",
    "    dropout=0.1,\n",
    ")\n",
    "model.compile(\n",
    "    loss=tf.keras.losses.SparseCategoricalCrossentropy(from_logits=True),\n",
    "    optimizer=tfa.optimizers.AdamW(learning_rate=lr, weight_decay=WEIGHT_DECAY),\n",
    "    metrics=[\"accuracy\"],\n",
    ")\n",
    "\n",
    "early_stop = tf.keras.callbacks.EarlyStopping(patience=10),\n",
    "mcp = tf.keras.callbacks.ModelCheckpoint(filepath='weights/best.h5', \n",
    "                                         save_best_only=True, \n",
    "                                         monitor='val_loss', \n",
    "                                         mode='min')\n",
    "reduce_lr = tf.keras.callbacks.ReduceLROnPlateau(monitor='val_loss', \n",
    "                                                 factor=0.1, \n",
    "                                                 patience=3, \n",
    "                                                 verbose=0, \n",
    "                                                 mode='auto',\n",
    "min_delta=0.0001, cooldown=0, min_lr=0)    \n",
    "\n",
    "model.fit(\n",
    "    ds_train,\n",
    "    validation_data=ds_test,\n",
    "    epochs=epochs,\n",
    "    callbacks=[early_stop, mcp, reduce_lr],\n",
    ")\n",
    "model.save_weights(os.path.join('.', \"vit\"))"
   ]
  },
  {
   "cell_type": "code",
   "execution_count": null,
   "metadata": {},
   "outputs": [],
   "source": []
  }
 ],
 "metadata": {
  "kernelspec": {
   "display_name": "ML",
   "language": "python",
   "name": "ml"
  },
  "language_info": {
   "codemirror_mode": {
    "name": "ipython",
    "version": 3
   },
   "file_extension": ".py",
   "mimetype": "text/x-python",
   "name": "python",
   "nbconvert_exporter": "python",
   "pygments_lexer": "ipython3",
   "version": "3.8.5"
  }
 },
 "nbformat": 4,
 "nbformat_minor": 4
}
