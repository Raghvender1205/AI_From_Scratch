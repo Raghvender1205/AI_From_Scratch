{
 "cells": [
  {
   "cell_type": "markdown",
   "metadata": {},
   "source": [
    "<img src=\"https://miro.medium.com/max/625/1*ala8WX2z47WYpn932hUkhA.jpeg\"/>\n",
    "\n",
    "The `SVM (Supported Vector Machine)` is a <b>supervised machine learning</b> algorithm typically used for <b>`binary classification`</b> . It's trained by feeding a dataset with <i>labeled examples (x, y)</i>. For instance, if your examples are email messages and it is a spam detection, then:\n",
    "- An example message `xi` is defined as an <i>n-dimensional feature vector</i> that can be plotted on n-dimensional space.\n",
    "- The feature vector, as name examples contains features (like count, like count etc.) of your email message in numerical form.\n",
    "- Each feature vector is labeled with a class `yi`\n",
    "- The class `yi` can either be a +ve and -ve\n",
    "\n",
    "Using this algorithm `SVM` finds a `hyperplane` <b>(Decision Boundary)</b> which should ideally have the following properties\n",
    "- It creates seperation between examples of two classes with a maximum margin.\n",
    "- Its equation `(w.x + b = 0)` yields the value >= 1 for examples from +ve class and <=-1 for examples from -ve class.\n",
    "\n",
    "\n",
    "### How does it find this hyperplane? \n",
    "\n",
    "By finding the optimal values `w* (weights/normal) and b* (intercept)` which define the hyperplane. The optimal values are found by `minimizing a cost function`. Once the Algorithm identifies these optimal values, the `SVM model` is then defined as :\n",
    "\n",
    "<img src=\"https://miro.medium.com/max/265/1*pzms4wJY9_TeMFvAiTvjVA.png\"/>"
   ]
  },
  {
   "cell_type": "code",
   "execution_count": 1,
   "metadata": {},
   "outputs": [],
   "source": [
    "import numpy as np\n",
    "import pandas as pd\n",
    "import statsmodels.api as sm # For finding P-value\n",
    "from sklearn.preprocessing import MinMaxScaler\n",
    "from sklearn.model_selection import train_test_split\n",
    "from sklearn.metrics import accuracy_score\n",
    "from sklearn.utils import shuffle"
   ]
  },
  {
   "cell_type": "markdown",
   "metadata": {},
   "source": [
    "### Reading Dataset"
   ]
  },
  {
   "cell_type": "code",
   "execution_count": 2,
   "metadata": {},
   "outputs": [],
   "source": [
    "data = pd.read_csv('BreastCancerDataset.csv')\n",
    "\n",
    "# As SVM can only accept numerical values, so we transform the cateogories M and B \n",
    "# into values 1 and -1 respectively.\n",
    "diagnosis_map = {'M': 1, 'B': -1}\n",
    "data['diagnosis'] = data['diagnosis'].map(diagnosis_map)"
   ]
  },
  {
   "cell_type": "markdown",
   "metadata": {},
   "source": [
    "### Feature Engineering"
   ]
  },
  {
   "cell_type": "code",
   "execution_count": 3,
   "metadata": {},
   "outputs": [
    {
     "name": "stderr",
     "output_type": "stream",
     "text": [
      "C:\\ProgramData\\Anaconda3\\envs\\ML\\lib\\site-packages\\sklearn\\preprocessing\\_data.py:373: RuntimeWarning: All-NaN slice encountered\n",
      "  data_min = np.nanmin(X, axis=0)\n",
      "C:\\ProgramData\\Anaconda3\\envs\\ML\\lib\\site-packages\\sklearn\\preprocessing\\_data.py:374: RuntimeWarning: All-NaN slice encountered\n",
      "  data_max = np.nanmax(X, axis=0)\n"
     ]
    }
   ],
   "source": [
    "# Features and output columns in different DataFrames\n",
    "Y = data.loc[:, 'diagnosis']\n",
    "X = data.iloc[:, 1:] \n",
    "\n",
    "# Normalize the Features using MinMaxScaler\n",
    "X_normalized = MinMaxScaler().fit_transform(X.values)\n",
    "X = pd.DataFrame(X_normalized)"
   ]
  },
  {
   "cell_type": "code",
   "execution_count": 4,
   "metadata": {},
   "outputs": [
    {
     "name": "stdout",
     "output_type": "stream",
     "text": [
      "Splitting dataset..\n"
     ]
    }
   ],
   "source": [
    "# Split Dataset\n",
    "\n",
    "# Insert 1 in every row for intercept b -> This is because of the cost Function\n",
    "X.insert(loc=len(X.columns), column='intercept', value=1)\n",
    "\n",
    "# Split\n",
    "print('Splitting dataset..')\n",
    "X_train, X_test, y_train, y_test = train_test_split(X, Y, test_size=0.2, random_state=42)"
   ]
  },
  {
   "cell_type": "markdown",
   "metadata": {},
   "source": [
    "### Cost Function\n",
    "<img src=\"https://miro.medium.com/max/500/1*vn2HDrdqBsKN5rYw7rjO5w.png\"/>\n",
    "\n",
    "In SVM, our objective is to find `hyperplane` that seperates `+ve` and `-ve` examples with the largest margin while keeping the misclassification as low as possible.\n",
    "\n",
    "So, we achieve this objective by minimizing the cost function:\n",
    "<img src=\"https://miro.medium.com/max/688/1*JAS6rUTO7TDlrv4XZSMbsA.png\"/>\n",
    "`In the training phase, Larger C results in the narrow margin (for infinitely large C the SVM becomes hard margin) and smaller C results in the wider margin.`  \n",
    "              \n",
    "              \n",
    "<b>Another version</b> of this cost function is: \n",
    "<img src=\"https://miro.medium.com/max/678/1*6w_B_DjhGvaqCnvhzhhkDg.png\"/>\n",
    "`Larger λ gives a wider margin and smaller λ results in the narrow margin (for infinitely small λ the SVM becomes hard margin).`\n",
    "\n",
    "Here `λ` is `1/C` and so has the opposite effect. We can use any of them keeping in mind what each `regularization parameter (C and λ)` does."
   ]
  },
  {
   "cell_type": "code",
   "execution_count": 5,
   "metadata": {},
   "outputs": [],
   "source": [
    "def compute_cost(W, X, Y):\n",
    "    # Calculate Hinge Loss\n",
    "    N = X.shape[0]\n",
    "    distances = 1 - Y * (np.dot(X, W))\n",
    "    distances[distances < 0] = 0 # Equivalent to max(0, distance)\n",
    "    hinge_loss = reg_strength * (np.sum(distances) / N)\n",
    "    \n",
    "    # Calculate Loss\n",
    "    cost = 1 / 2 * np.dot(W, W) + hinge_loss\n",
    "    return cost"
   ]
  },
  {
   "cell_type": "markdown",
   "metadata": {},
   "source": [
    "Here the intercept term `b` is missing, as we pushed it to the weight vector \n",
    "<img src=\"https://miro.medium.com/max/868/1*jZJuvalHKsr18E5NUsemvQ.png\"/>\n",
    "For this reason, we added an extra column with all `1s` before splitting dataset.\n",
    "\n",
    "### The Gradient of  the Cost Function\n",
    "<img src=\"https://miro.medium.com/max/866/1*ww3F21VMVGp2NKhm0VTesA.png\"/>"
   ]
  },
  {
   "cell_type": "code",
   "execution_count": 6,
   "metadata": {},
   "outputs": [],
   "source": [
    "def calculate_cost_gradient(W, X_batch, Y_batch):\n",
    "    # If only one example is passed (eg. In case of SGD)\n",
    "    if type(Y_batch) == np.float64:\n",
    "        Y_batch = np.array([Y_batch])\n",
    "        X_batch = np.array([X_batch])\n",
    "        \n",
    "    distance = 1 - (Y_batch * np.dot(X_batch, W))\n",
    "    dw = np.zeros(len(W))\n",
    "    \n",
    "    for ind, d in enumerate(distance):\n",
    "        if max(0, d) == 0:\n",
    "            di = W\n",
    "        else:\n",
    "            di = W - (reg_strength * Y_batch[ind] * X_batch[ind])\n",
    "        dw += di\n",
    "        \n",
    "    dw = dw / len(Y_batch) # Average\n",
    "    return dw"
   ]
  },
  {
   "cell_type": "markdown",
   "metadata": {},
   "source": [
    "### Training using SGD\n",
    "\n",
    "We have to first minimize the cost function, look at the equation. To find `J(W)` minimum, we have to:\n",
    "- Minimize `||w||**2` which maximizes margin `(2 / ||w||)`\n",
    "- Minimize the sum of `hinge loss` which minimizes misclassifications.\n",
    "\n",
    "The Hinge Loss Function\n",
    "\n",
    "<img src=\"https://miro.medium.com/max/823/1*oKqlv9dGoyEhmvM3zCbsJA.png\"/>\n",
    "\n",
    "So, we minimize the cost function using `Stochastic Gradient Descent`. \n",
    "<img src=\"https://miro.medium.com/max/875/1*ykRTMpIdFqmyvTY6aEVoVw.png\"/>\n",
    "\n",
    "It works:\n",
    "- Find the gradient of cost function i.e. `∇J(w’)`\n",
    "- Move opposite to the gradient by a certain rate i.e. `w’ = w’ — ∝(∇J(w’))`\n",
    "- Repeat step 1–3 until convergence i.e we found `w’` where `J(w)` is smallest."
   ]
  },
  {
   "cell_type": "code",
   "execution_count": 7,
   "metadata": {},
   "outputs": [],
   "source": [
    "def sgd(features, outputs):\n",
    "    max_epochs = 1000\n",
    "    weights = np.zeros(features.shape[1])\n",
    "    \n",
    "    for epoch in range(1, max_epochs):\n",
    "        # Shuffle\n",
    "        X, Y = shuffle(features, outputs)\n",
    "        for idx, x in enumerate(X):\n",
    "            ascent = calculate_cost_gradient(weights, x, Y[idx])\n",
    "            weights -= (lr * ascent)\n",
    "        \n",
    "    return weights"
   ]
  },
  {
   "cell_type": "code",
   "execution_count": 8,
   "metadata": {},
   "outputs": [],
   "source": [
    "# Stoppage criterion for SGD\n",
    "def sgd(features, outputs):\n",
    "    max_epochs = 5000\n",
    "    weights = np.zeros(features.shape[1])\n",
    "    nth = 0\n",
    "    prev_cost = float(\"inf\")\n",
    "    cost_threshold = 0.01  # in percent\n",
    "    # stochastic gradient descent\n",
    "    for epoch in range(1, max_epochs):\n",
    "        # shuffle to prevent repeating update cycles\n",
    "        X, Y = shuffle(features, outputs)\n",
    "        for ind, x in enumerate(X):\n",
    "            ascent = calculate_cost_gradient(weights, x, Y[ind])\n",
    "            weights = weights - (learning_rate * ascent)\n",
    "        # convergence check on 2^nth epoch\n",
    "        if epoch == 2 ** nth or epoch == max_epochs - 1:\n",
    "            cost = compute_cost(weights, features, outputs)\n",
    "            print(\"Epoch is:{} and Cost is: {}\".format(epoch, cost))\n",
    "            # stoppage criterion\n",
    "            if abs(prev_cost - cost) < cost_threshold * prev_cost:\n",
    "                return weights\n",
    "            prev_cost = cost\n",
    "            nth += 1\n",
    "    return weights"
   ]
  },
  {
   "cell_type": "code",
   "execution_count": 9,
   "metadata": {},
   "outputs": [],
   "source": [
    "def train():\n",
    "    print('Training started....')\n",
    "    W = sgd(X_train.to_numpy(), y_train.to_numpy())\n",
    "    print('Training finished')\n",
    "    print('Weights are: {}'.format(W))"
   ]
  },
  {
   "cell_type": "code",
   "execution_count": 10,
   "metadata": {},
   "outputs": [],
   "source": [
    "def test():\n",
    "    Y_pred = np.array([])\n",
    "    for i in range(X_test.shape[0]):\n",
    "        yp = np.sign(np.dot(W, X_test.to_numpy()[i]))\n",
    "        Y_pred = np.append(Y_pred, yp)\n",
    "        \n",
    "    print(\"accuracy on test dataset: {}\".format(accuracy_score(y_test.to_numpy(), y_test_predicted)))\n",
    "    print(\"recall on test dataset: {}\".format(recall_score(y_test.to_numpy(), y_test_predicted)))\n",
    "    print(\"precision on test dataset: {}\".format(recall_score(y_test.to_numpy(), y_test_predicted)))"
   ]
  },
  {
   "cell_type": "code",
   "execution_count": null,
   "metadata": {},
   "outputs": [],
   "source": [
    "reg_strength = 10000\n",
    "learning_rate = 0.0001\n",
    "train()"
   ]
  },
  {
   "cell_type": "code",
   "execution_count": 15,
   "metadata": {},
   "outputs": [
    {
     "name": "stdout",
     "output_type": "stream",
     "text": [
      "reading dataset...\n",
      "applying feature engineering...\n",
      "splitting dataset into train and test sets...\n",
      "training started...\n",
      "Epoch is: 1 and Cost is: 7302.322568152557\n",
      "Epoch is: 2 and Cost is: 6571.31677923402\n",
      "Epoch is: 4 and Cost is: 5474.704523447078\n",
      "Epoch is: 8 and Cost is: 3873.4330086323957\n",
      "Epoch is: 16 and Cost is: 2652.50814625737\n",
      "Epoch is: 32 and Cost is: 1980.2709881452106\n",
      "Epoch is: 64 and Cost is: 1592.5884211331665\n",
      "Epoch is: 128 and Cost is: 1324.3142639575485\n",
      "Epoch is: 256 and Cost is: 1159.0037758357596\n",
      "Epoch is: 512 and Cost is: 1074.5082761866936\n",
      "Epoch is: 1024 and Cost is: 1048.4046400310142\n",
      "Epoch is: 2048 and Cost is: 1040.4527930848028\n",
      "training finished.\n",
      "weights are: [ 3.53935971 11.05690531 -2.29300674 -7.90673076 10.1510758  -1.28424732\n",
      " -6.4438179   2.24260591 -3.88982507  3.24470575  4.93070569  4.82524927\n",
      " -4.73341036]\n",
      "testing the model...\n",
      "accuracy on test dataset: 0.9912280701754386\n",
      "recall on test dataset: 0.9767441860465116\n",
      "precision on test dataset: 0.9767441860465116\n"
     ]
    }
   ],
   "source": [
    "%run SVM_From_Scratch.py"
   ]
  },
  {
   "cell_type": "code",
   "execution_count": null,
   "metadata": {},
   "outputs": [],
   "source": []
  }
 ],
 "metadata": {
  "kernelspec": {
   "display_name": "ML",
   "language": "python",
   "name": "ml"
  },
  "language_info": {
   "codemirror_mode": {
    "name": "ipython",
    "version": 3
   },
   "file_extension": ".py",
   "mimetype": "text/x-python",
   "name": "python",
   "nbconvert_exporter": "python",
   "pygments_lexer": "ipython3",
   "version": "3.8.5"
  }
 },
 "nbformat": 4,
 "nbformat_minor": 4
}
