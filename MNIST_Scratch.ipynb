{
 "cells": [
  {
   "cell_type": "code",
   "execution_count": 3,
   "metadata": {},
   "outputs": [
    {
     "name": "stdout",
     "output_type": "stream",
     "text": [
      "Populating the interactive namespace from numpy and matplotlib\n"
     ]
    }
   ],
   "source": [
    "%pylab inline\n",
    "import numpy as np\n",
    "from tqdm import trange\n",
    "np.set_printoptions(suppress=True)\n",
    "\n",
    "import matplotlib.pyplot as plt\n",
    "\n",
    "import os\n",
    "import requests\n",
    "import hashlib\n",
    "import gzip"
   ]
  },
  {
   "cell_type": "code",
   "execution_count": 8,
   "metadata": {},
   "outputs": [],
   "source": [
    "# url = http://yann.lecun.com/exdb/mnist/\n",
    "# load data (Downloaded from the above link)\n",
    "def load(fp):\n",
    "    if os.path.isfile(fp):\n",
    "        with open(fp, 'rb') as f:\n",
    "            data = f.read()\n",
    "    else:\n",
    "        RuntimeError(\"Please Download the File\")\n",
    "    \n",
    "    return np.frombuffer(gzip.decompress(data), dtype=np.uint8).copy()\n",
    "\n",
    "X_train = load('train-images-idx3-ubyte.gz')[0x10:].reshape((-1, 28, 28))\n",
    "X_test = load('t10k-images-idx3-ubyte.gz')[0x10:].reshape((-1, 28, 28))\n",
    "y_train = load('train-labels-idx1-ubyte.gz')[8:]\n",
    "y_test = load('t10k-labels-idx1-ubyte.gz')[8:]"
   ]
  },
  {
   "cell_type": "code",
   "execution_count": 14,
   "metadata": {},
   "outputs": [
    {
     "data": {
      "text/plain": [
       "<matplotlib.image.AxesImage at 0x1ed6f12f610>"
      ]
     },
     "execution_count": 14,
     "metadata": {},
     "output_type": "execute_result"
    },
    {
     "data": {
      "image/png": "[encoded data removed]",
      "text/plain": [
       "<Figure size 432x288 with 1 Axes>"
      ]
     },
     "metadata": {
      "needs_background": "light"
     },
     "output_type": "display_data"
    }
   ],
   "source": [
    "# Check \n",
    "plt.imshow(X_train[0])"
   ]
  },
  {
   "cell_type": "code",
   "execution_count": 10,
   "metadata": {},
   "outputs": [],
   "source": [
    "# For Comparision using Torch\n",
    "import torch\n",
    "import torch.nn as nn\n",
    "import torch.nn.functional as F\n",
    "torch.set_printoptions(sci_mode=False)\n",
    "\n",
    "class Net(nn.Module):\n",
    "    def __init__(self):\n",
    "        super(Net, self).__init__()\n",
    "        self.l1 = nn.Linear(784, 128, bias=False)\n",
    "        self.l2 = nn.Linear(128, 10, bias=False)\n",
    "        self.softmax = nn.LogSoftmax(dim=1)\n",
    "    \n",
    "    # Forward Pass\n",
    "    def forward(self, x):\n",
    "        x = F.relu(self.l1(x))\n",
    "        x = self.l2(x)\n",
    "        x = self.softmax(x)\n",
    "        return x"
   ]
  },
  {
   "cell_type": "markdown",
   "metadata": {},
   "source": [
    "### Train Net (PyTorch)\n",
    "\n",
    "Using nn.NLLLoss as a Loss_Fn\n",
    "1. <b>NLLLoss</b>\n",
    "\n",
    "    The negative log likelihood loss. It is useful to train a classification problem with C classes.\n",
    "\n",
    "    If provided, the optional argument weight should be a 1D Tensor assigning weight to each of the classes. This is particularly useful when you have an unbalanced training set.\n",
    "    \n",
    "Using Stochastic Gradient Descent \n",
    "\n",
    "<b>SGD</b>\n",
    "* Implements stochastic gradient descent (optionally with momentum)."
   ]
  },
  {
   "cell_type": "code",
   "execution_count": 31,
   "metadata": {},
   "outputs": [
    {
     "name": "stderr",
     "output_type": "stream",
     "text": [
      "loss 0.20 accuracy 0.93: 100%|██████████████████████| 2000/2000 [00:13<00:00, 151.05it/s]\n"
     ]
    },
    {
     "data": {
      "text/plain": [
       "[<matplotlib.lines.Line2D at 0x1ed6f2d3610>]"
      ]
     },
     "execution_count": 31,
     "metadata": {},
     "output_type": "execute_result"
    },
    {
     "data": {
      "image/png": "[encoded data removed]",
      "text/plain": [
       "<Figure size 432x288 with 1 Axes>"
      ]
     },
     "metadata": {
      "needs_background": "light"
     },
     "output_type": "display_data"
    }
   ],
   "source": [
    "# train\n",
    "model = Net()\n",
    "\n",
    "# ******** I didn't know either **********************\n",
    "# protip: if you like accuracy like 96 not like 93, next time through the notebook, consider\n",
    "# CHAD MODE WEIGHT INIT WITH NUMPY\n",
    "# instead of virgin torch init mode\n",
    "# TODO: why is torch linear init bad?\n",
    "# ****************************************************\n",
    "\n",
    "loss_fn = nn.NLLLoss(reduction='none')\n",
    "optim = torch.optim.SGD(model.parameters(), lr=0.001, momentum=0)\n",
    "BS = 512 # Batch Size\n",
    "losses, accuracies = [], []\n",
    "\n",
    "for i in (t := trange(2000)):\n",
    "    samp = np.random.randint(0, X_train.shape[0], size=(BS))\n",
    "    X = torch.tensor(X_train[samp].reshape((-1, 28*28))).float()\n",
    "    Y = torch.tensor(y_train[samp]).long()\n",
    "    model.zero_grad() # Set grad to zero for backpropogation\n",
    "    out = model(X)\n",
    "    cat = torch.argmax(out, dim=1)\n",
    "    accuracy = (cat == Y).float().mean()\n",
    "    loss = loss_fn(out, Y)\n",
    "    loss = loss.mean()\n",
    "    loss.backward() # backward pass\n",
    "    optim.step()\n",
    "    \n",
    "    loss, accuracy = loss.item(), accuracy.item()\n",
    "    losses.append(loss)\n",
    "    accuracies.append(accuracy)\n",
    "    t.set_description('loss %.2f accuracy %.2f'% (loss, accuracy))\n",
    "\n",
    "plt.ylim(-0.1, 1.1)\n",
    "plt.plot(losses)\n",
    "plt.plot(accuracies)"
   ]
  },
  {
   "cell_type": "code",
   "execution_count": 32,
   "metadata": {},
   "outputs": [
    {
     "data": {
      "text/plain": [
       "0.9412"
      ]
     },
     "execution_count": 32,
     "metadata": {},
     "output_type": "execute_result"
    }
   ],
   "source": [
    "# By Hit and trial method on BS and trange differnet accuracies are coming\n",
    "\n",
    "# eval\n",
    "y_test_preds = torch.argmax(model(torch.tensor(X_test.reshape((-1, 28*28))).float()), dim=1).numpy()\n",
    "(y_test == y_test_preds).mean()"
   ]
  },
  {
   "cell_type": "markdown",
   "metadata": {},
   "source": [
    "### Compute the gradients in torch"
   ]
  },
  {
   "cell_type": "code",
   "execution_count": 33,
   "metadata": {},
   "outputs": [
    {
     "data": {
      "text/plain": [
       "<matplotlib.image.AxesImage at 0x1ed6f1fd700>"
      ]
     },
     "execution_count": 33,
     "metadata": {},
     "output_type": "execute_result"
    },
    {
     "data": {
      "image/png": "[encoded data removed]",
      "text/plain": [
       "<Figure size 432x288 with 1 Axes>"
      ]
     },
     "metadata": {
      "needs_background": "light"
     },
     "output_type": "display_data"
    },
    {
     "data": {
      "image/png": "[encoded data removed]",
      "text/plain": [
       "<Figure size 720x720 with 1 Axes>"
      ]
     },
     "metadata": {
      "needs_background": "light"
     },
     "output_type": "display_data"
    }
   ],
   "source": [
    "samp = [0, 1, 2, 3]\n",
    "model.zero_grad() # Set gradients to zero\n",
    "out = model(torch.tensor(X_test[samp].reshape((-1, 28*28))).float())\n",
    "out.retain_grad()\n",
    "loss = loss_fn(out, torch.tensor(y_test[samp]).long()).mean()\n",
    "loss.backward()\n",
    "\n",
    "plt.imshow(model.l1.weight.grad)\n",
    "plt.figure(figsize=(10, 10))\n",
    "plt.imshow(model.l1.weight.grad)"
   ]
  },
  {
   "cell_type": "markdown",
   "metadata": {},
   "source": [
    "# For numpy"
   ]
  },
  {
   "cell_type": "code",
   "execution_count": 34,
   "metadata": {},
   "outputs": [
    {
     "data": {
      "text/plain": [
       "0.9412"
      ]
     },
     "execution_count": 34,
     "metadata": {},
     "output_type": "execute_result"
    }
   ],
   "source": [
    "# Copy weights from torch\n",
    "l1 = model.l1.weight.detach().numpy().T # T -> Transpose\n",
    "l2 = model.l2.weight.detach().numpy().T\n",
    "\n",
    "\n",
    "# Forward Pass (Numpy)\n",
    "def forward(x):\n",
    "    x = x.dot(l1)\n",
    "    x = np.maximum(x, 0) # relu\n",
    "    x = x.dot(l2)\n",
    "    return x\n",
    "\n",
    "def np_eval():\n",
    "    y_test_preds_out = forward(X_test.reshape((-1, 28*28)))\n",
    "    y_test_preds = np.argmax(y_test_preds_out, axis=1)\n",
    "    return (y_test == y_test_preds).mean()\n",
    "\n",
    "\n",
    "np_eval()"
   ]
  },
  {
   "cell_type": "code",
   "execution_count": 35,
   "metadata": {},
   "outputs": [],
   "source": [
    "# Write forward and backward pass for numpy\n",
    "\n",
    "def logsumexp(x):\n",
    "    # normalization trick\n",
    "    # http://gregorygundersen.com/blog/2020/02/09/log-sum-exp/\n",
    "    c = x.max(axis=1)\n",
    "    return c + np.log(np.exp(x - c.reshape((-1, 1))).sum(axis=1))\n",
    "\n",
    "def forward_backward(x, y):\n",
    "    # training\n",
    "    out = np.zeros((len(y), 10), np.float32)\n",
    "    out[range(out.shape[0]), y] = 1\n",
    "    "
   ]
  },
  {
   "cell_type": "code",
   "execution_count": null,
   "metadata": {},
   "outputs": [],
   "source": []
  }
 ],
 "metadata": {
  "kernelspec": {
   "display_name": "ML",
   "language": "python",
   "name": "ml"
  },
  "language_info": {
   "codemirror_mode": {
    "name": "ipython",
    "version": 3
   },
   "file_extension": ".py",
   "mimetype": "text/x-python",
   "name": "python",
   "nbconvert_exporter": "python",
   "pygments_lexer": "ipython3",
   "version": "3.8.5"
  }
 },
 "nbformat": 4,
 "nbformat_minor": 4
}
